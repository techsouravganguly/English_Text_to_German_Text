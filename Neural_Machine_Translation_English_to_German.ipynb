{
  "nbformat": 4,
  "nbformat_minor": 0,
  "metadata": {
    "colab": {
      "name": "Neural Machine Translation English to German.ipynb",
      "provenance": [],
      "mount_file_id": "1aeBK09qjNjj8ZhVwip9_VU6f-L-A7g4C",
      "authorship_tag": "ABX9TyPuQC6SG16E2dItvd3rD0VB",
      "include_colab_link": true
    },
    "kernelspec": {
      "name": "python3",
      "display_name": "Python 3"
    },
    "language_info": {
      "name": "python"
    },
    "widgets": {
      "application/vnd.jupyter.widget-state+json": {
        "a1002613f02b42a8a40a9e0f1852d91e": {
          "model_module": "@jupyter-widgets/controls",
          "model_name": "HBoxModel",
          "state": {
            "_view_name": "HBoxView",
            "_dom_classes": [],
            "_model_name": "HBoxModel",
            "_view_module": "@jupyter-widgets/controls",
            "_model_module_version": "1.5.0",
            "_view_count": null,
            "_view_module_version": "1.5.0",
            "box_style": "",
            "layout": "IPY_MODEL_b9c93972eec24d9b8257bb1d0b8a1b8a",
            "_model_module": "@jupyter-widgets/controls",
            "children": [
              "IPY_MODEL_7367e569106143c9b37621a31fce3b30",
              "IPY_MODEL_fa27b0fe1faf4fd981b8eb9a4af7ecd6"
            ]
          }
        },
        "b9c93972eec24d9b8257bb1d0b8a1b8a": {
          "model_module": "@jupyter-widgets/base",
          "model_name": "LayoutModel",
          "state": {
            "_view_name": "LayoutView",
            "grid_template_rows": null,
            "right": null,
            "justify_content": null,
            "_view_module": "@jupyter-widgets/base",
            "overflow": null,
            "_model_module_version": "1.2.0",
            "_view_count": null,
            "flex_flow": null,
            "width": null,
            "min_width": null,
            "border": null,
            "align_items": null,
            "bottom": null,
            "_model_module": "@jupyter-widgets/base",
            "top": null,
            "grid_column": null,
            "overflow_y": null,
            "overflow_x": null,
            "grid_auto_flow": null,
            "grid_area": null,
            "grid_template_columns": null,
            "flex": null,
            "_model_name": "LayoutModel",
            "justify_items": null,
            "grid_row": null,
            "max_height": null,
            "align_content": null,
            "visibility": null,
            "align_self": null,
            "height": null,
            "min_height": null,
            "padding": null,
            "grid_auto_rows": null,
            "grid_gap": null,
            "max_width": null,
            "order": null,
            "_view_module_version": "1.2.0",
            "grid_template_areas": null,
            "object_position": null,
            "object_fit": null,
            "grid_auto_columns": null,
            "margin": null,
            "display": null,
            "left": null
          }
        },
        "7367e569106143c9b37621a31fce3b30": {
          "model_module": "@jupyter-widgets/controls",
          "model_name": "FloatProgressModel",
          "state": {
            "_view_name": "ProgressView",
            "style": "IPY_MODEL_848ef947d4ec47a7bf7ef31f75de9046",
            "_dom_classes": [],
            "description": "Dl Completed...: 100%",
            "_model_name": "FloatProgressModel",
            "bar_style": "success",
            "max": 1,
            "_view_module": "@jupyter-widgets/controls",
            "_model_module_version": "1.5.0",
            "value": 1,
            "_view_count": null,
            "_view_module_version": "1.5.0",
            "orientation": "horizontal",
            "min": 0,
            "description_tooltip": null,
            "_model_module": "@jupyter-widgets/controls",
            "layout": "IPY_MODEL_ae068f9fdbf74a528d9e1e845c882240"
          }
        },
        "fa27b0fe1faf4fd981b8eb9a4af7ecd6": {
          "model_module": "@jupyter-widgets/controls",
          "model_name": "HTMLModel",
          "state": {
            "_view_name": "HTMLView",
            "style": "IPY_MODEL_7be50a3497c74dff8a067013b4a135e3",
            "_dom_classes": [],
            "description": "",
            "_model_name": "HTMLModel",
            "placeholder": "​",
            "_view_module": "@jupyter-widgets/controls",
            "_model_module_version": "1.5.0",
            "value": " 1/1 [00:08&lt;00:00,  8.25s/ url]",
            "_view_count": null,
            "_view_module_version": "1.5.0",
            "description_tooltip": null,
            "_model_module": "@jupyter-widgets/controls",
            "layout": "IPY_MODEL_5a31a36b20864ce3baf80f245fc9ba4e"
          }
        },
        "848ef947d4ec47a7bf7ef31f75de9046": {
          "model_module": "@jupyter-widgets/controls",
          "model_name": "ProgressStyleModel",
          "state": {
            "_view_name": "StyleView",
            "_model_name": "ProgressStyleModel",
            "description_width": "initial",
            "_view_module": "@jupyter-widgets/base",
            "_model_module_version": "1.5.0",
            "_view_count": null,
            "_view_module_version": "1.2.0",
            "bar_color": null,
            "_model_module": "@jupyter-widgets/controls"
          }
        },
        "ae068f9fdbf74a528d9e1e845c882240": {
          "model_module": "@jupyter-widgets/base",
          "model_name": "LayoutModel",
          "state": {
            "_view_name": "LayoutView",
            "grid_template_rows": null,
            "right": null,
            "justify_content": null,
            "_view_module": "@jupyter-widgets/base",
            "overflow": null,
            "_model_module_version": "1.2.0",
            "_view_count": null,
            "flex_flow": null,
            "width": null,
            "min_width": null,
            "border": null,
            "align_items": null,
            "bottom": null,
            "_model_module": "@jupyter-widgets/base",
            "top": null,
            "grid_column": null,
            "overflow_y": null,
            "overflow_x": null,
            "grid_auto_flow": null,
            "grid_area": null,
            "grid_template_columns": null,
            "flex": null,
            "_model_name": "LayoutModel",
            "justify_items": null,
            "grid_row": null,
            "max_height": null,
            "align_content": null,
            "visibility": null,
            "align_self": null,
            "height": null,
            "min_height": null,
            "padding": null,
            "grid_auto_rows": null,
            "grid_gap": null,
            "max_width": null,
            "order": null,
            "_view_module_version": "1.2.0",
            "grid_template_areas": null,
            "object_position": null,
            "object_fit": null,
            "grid_auto_columns": null,
            "margin": null,
            "display": null,
            "left": null
          }
        },
        "7be50a3497c74dff8a067013b4a135e3": {
          "model_module": "@jupyter-widgets/controls",
          "model_name": "DescriptionStyleModel",
          "state": {
            "_view_name": "StyleView",
            "_model_name": "DescriptionStyleModel",
            "description_width": "",
            "_view_module": "@jupyter-widgets/base",
            "_model_module_version": "1.5.0",
            "_view_count": null,
            "_view_module_version": "1.2.0",
            "_model_module": "@jupyter-widgets/controls"
          }
        },
        "5a31a36b20864ce3baf80f245fc9ba4e": {
          "model_module": "@jupyter-widgets/base",
          "model_name": "LayoutModel",
          "state": {
            "_view_name": "LayoutView",
            "grid_template_rows": null,
            "right": null,
            "justify_content": null,
            "_view_module": "@jupyter-widgets/base",
            "overflow": null,
            "_model_module_version": "1.2.0",
            "_view_count": null,
            "flex_flow": null,
            "width": null,
            "min_width": null,
            "border": null,
            "align_items": null,
            "bottom": null,
            "_model_module": "@jupyter-widgets/base",
            "top": null,
            "grid_column": null,
            "overflow_y": null,
            "overflow_x": null,
            "grid_auto_flow": null,
            "grid_area": null,
            "grid_template_columns": null,
            "flex": null,
            "_model_name": "LayoutModel",
            "justify_items": null,
            "grid_row": null,
            "max_height": null,
            "align_content": null,
            "visibility": null,
            "align_self": null,
            "height": null,
            "min_height": null,
            "padding": null,
            "grid_auto_rows": null,
            "grid_gap": null,
            "max_width": null,
            "order": null,
            "_view_module_version": "1.2.0",
            "grid_template_areas": null,
            "object_position": null,
            "object_fit": null,
            "grid_auto_columns": null,
            "margin": null,
            "display": null,
            "left": null
          }
        },
        "13949df47ad644e89f6f1c43ee0d2f7c": {
          "model_module": "@jupyter-widgets/controls",
          "model_name": "HBoxModel",
          "state": {
            "_view_name": "HBoxView",
            "_dom_classes": [],
            "_model_name": "HBoxModel",
            "_view_module": "@jupyter-widgets/controls",
            "_model_module_version": "1.5.0",
            "_view_count": null,
            "_view_module_version": "1.5.0",
            "box_style": "",
            "layout": "IPY_MODEL_8434b0f0b8bf4436b400af357bf7f3fa",
            "_model_module": "@jupyter-widgets/controls",
            "children": [
              "IPY_MODEL_a656eaf4aff74498987563ed53307aa1",
              "IPY_MODEL_cd837cfc8bf146048e404983641642aa"
            ]
          }
        },
        "8434b0f0b8bf4436b400af357bf7f3fa": {
          "model_module": "@jupyter-widgets/base",
          "model_name": "LayoutModel",
          "state": {
            "_view_name": "LayoutView",
            "grid_template_rows": null,
            "right": null,
            "justify_content": null,
            "_view_module": "@jupyter-widgets/base",
            "overflow": null,
            "_model_module_version": "1.2.0",
            "_view_count": null,
            "flex_flow": null,
            "width": null,
            "min_width": null,
            "border": null,
            "align_items": null,
            "bottom": null,
            "_model_module": "@jupyter-widgets/base",
            "top": null,
            "grid_column": null,
            "overflow_y": null,
            "overflow_x": null,
            "grid_auto_flow": null,
            "grid_area": null,
            "grid_template_columns": null,
            "flex": null,
            "_model_name": "LayoutModel",
            "justify_items": null,
            "grid_row": null,
            "max_height": null,
            "align_content": null,
            "visibility": null,
            "align_self": null,
            "height": null,
            "min_height": null,
            "padding": null,
            "grid_auto_rows": null,
            "grid_gap": null,
            "max_width": null,
            "order": null,
            "_view_module_version": "1.2.0",
            "grid_template_areas": null,
            "object_position": null,
            "object_fit": null,
            "grid_auto_columns": null,
            "margin": null,
            "display": null,
            "left": null
          }
        },
        "a656eaf4aff74498987563ed53307aa1": {
          "model_module": "@jupyter-widgets/controls",
          "model_name": "FloatProgressModel",
          "state": {
            "_view_name": "ProgressView",
            "style": "IPY_MODEL_fbf54318c83d4001b1d658602c349183",
            "_dom_classes": [],
            "description": "Dl Size...: 100%",
            "_model_name": "FloatProgressModel",
            "bar_style": "success",
            "max": 1,
            "_view_module": "@jupyter-widgets/controls",
            "_model_module_version": "1.5.0",
            "value": 1,
            "_view_count": null,
            "_view_module_version": "1.5.0",
            "orientation": "horizontal",
            "min": 0,
            "description_tooltip": null,
            "_model_module": "@jupyter-widgets/controls",
            "layout": "IPY_MODEL_571bba4e4a8e44259f5847a2a193b070"
          }
        },
        "cd837cfc8bf146048e404983641642aa": {
          "model_module": "@jupyter-widgets/controls",
          "model_name": "HTMLModel",
          "state": {
            "_view_name": "HTMLView",
            "style": "IPY_MODEL_372dc139f774481ba358ceb475c637e5",
            "_dom_classes": [],
            "description": "",
            "_model_name": "HTMLModel",
            "placeholder": "​",
            "_view_module": "@jupyter-widgets/controls",
            "_model_module_version": "1.5.0",
            "value": " 34/34 [00:08&lt;00:00,  4.15 MiB/s]",
            "_view_count": null,
            "_view_module_version": "1.5.0",
            "description_tooltip": null,
            "_model_module": "@jupyter-widgets/controls",
            "layout": "IPY_MODEL_1e38af7a666241c8803e59db78f878ee"
          }
        },
        "fbf54318c83d4001b1d658602c349183": {
          "model_module": "@jupyter-widgets/controls",
          "model_name": "ProgressStyleModel",
          "state": {
            "_view_name": "StyleView",
            "_model_name": "ProgressStyleModel",
            "description_width": "initial",
            "_view_module": "@jupyter-widgets/base",
            "_model_module_version": "1.5.0",
            "_view_count": null,
            "_view_module_version": "1.2.0",
            "bar_color": null,
            "_model_module": "@jupyter-widgets/controls"
          }
        },
        "571bba4e4a8e44259f5847a2a193b070": {
          "model_module": "@jupyter-widgets/base",
          "model_name": "LayoutModel",
          "state": {
            "_view_name": "LayoutView",
            "grid_template_rows": null,
            "right": null,
            "justify_content": null,
            "_view_module": "@jupyter-widgets/base",
            "overflow": null,
            "_model_module_version": "1.2.0",
            "_view_count": null,
            "flex_flow": null,
            "width": null,
            "min_width": null,
            "border": null,
            "align_items": null,
            "bottom": null,
            "_model_module": "@jupyter-widgets/base",
            "top": null,
            "grid_column": null,
            "overflow_y": null,
            "overflow_x": null,
            "grid_auto_flow": null,
            "grid_area": null,
            "grid_template_columns": null,
            "flex": null,
            "_model_name": "LayoutModel",
            "justify_items": null,
            "grid_row": null,
            "max_height": null,
            "align_content": null,
            "visibility": null,
            "align_self": null,
            "height": null,
            "min_height": null,
            "padding": null,
            "grid_auto_rows": null,
            "grid_gap": null,
            "max_width": null,
            "order": null,
            "_view_module_version": "1.2.0",
            "grid_template_areas": null,
            "object_position": null,
            "object_fit": null,
            "grid_auto_columns": null,
            "margin": null,
            "display": null,
            "left": null
          }
        },
        "372dc139f774481ba358ceb475c637e5": {
          "model_module": "@jupyter-widgets/controls",
          "model_name": "DescriptionStyleModel",
          "state": {
            "_view_name": "StyleView",
            "_model_name": "DescriptionStyleModel",
            "description_width": "",
            "_view_module": "@jupyter-widgets/base",
            "_model_module_version": "1.5.0",
            "_view_count": null,
            "_view_module_version": "1.2.0",
            "_model_module": "@jupyter-widgets/controls"
          }
        },
        "1e38af7a666241c8803e59db78f878ee": {
          "model_module": "@jupyter-widgets/base",
          "model_name": "LayoutModel",
          "state": {
            "_view_name": "LayoutView",
            "grid_template_rows": null,
            "right": null,
            "justify_content": null,
            "_view_module": "@jupyter-widgets/base",
            "overflow": null,
            "_model_module_version": "1.2.0",
            "_view_count": null,
            "flex_flow": null,
            "width": null,
            "min_width": null,
            "border": null,
            "align_items": null,
            "bottom": null,
            "_model_module": "@jupyter-widgets/base",
            "top": null,
            "grid_column": null,
            "overflow_y": null,
            "overflow_x": null,
            "grid_auto_flow": null,
            "grid_area": null,
            "grid_template_columns": null,
            "flex": null,
            "_model_name": "LayoutModel",
            "justify_items": null,
            "grid_row": null,
            "max_height": null,
            "align_content": null,
            "visibility": null,
            "align_self": null,
            "height": null,
            "min_height": null,
            "padding": null,
            "grid_auto_rows": null,
            "grid_gap": null,
            "max_width": null,
            "order": null,
            "_view_module_version": "1.2.0",
            "grid_template_areas": null,
            "object_position": null,
            "object_fit": null,
            "grid_auto_columns": null,
            "margin": null,
            "display": null,
            "left": null
          }
        },
        "badbbcb6ad694eec915787bde269d571": {
          "model_module": "@jupyter-widgets/controls",
          "model_name": "HBoxModel",
          "state": {
            "_view_name": "HBoxView",
            "_dom_classes": [],
            "_model_name": "HBoxModel",
            "_view_module": "@jupyter-widgets/controls",
            "_model_module_version": "1.5.0",
            "_view_count": null,
            "_view_module_version": "1.5.0",
            "box_style": "",
            "layout": "IPY_MODEL_e2831d6cd43a4c51b3549b0e14547207",
            "_model_module": "@jupyter-widgets/controls",
            "children": [
              "IPY_MODEL_5c431bc935ef4c2b8a078cd991b3b02c",
              "IPY_MODEL_671ee25e7873441388ef86f357ad555f"
            ]
          }
        },
        "e2831d6cd43a4c51b3549b0e14547207": {
          "model_module": "@jupyter-widgets/base",
          "model_name": "LayoutModel",
          "state": {
            "_view_name": "LayoutView",
            "grid_template_rows": null,
            "right": null,
            "justify_content": null,
            "_view_module": "@jupyter-widgets/base",
            "overflow": null,
            "_model_module_version": "1.2.0",
            "_view_count": null,
            "flex_flow": null,
            "width": null,
            "min_width": null,
            "border": null,
            "align_items": null,
            "bottom": null,
            "_model_module": "@jupyter-widgets/base",
            "top": null,
            "grid_column": null,
            "overflow_y": null,
            "overflow_x": null,
            "grid_auto_flow": null,
            "grid_area": null,
            "grid_template_columns": null,
            "flex": null,
            "_model_name": "LayoutModel",
            "justify_items": null,
            "grid_row": null,
            "max_height": null,
            "align_content": null,
            "visibility": null,
            "align_self": null,
            "height": null,
            "min_height": null,
            "padding": null,
            "grid_auto_rows": null,
            "grid_gap": null,
            "max_width": null,
            "order": null,
            "_view_module_version": "1.2.0",
            "grid_template_areas": null,
            "object_position": null,
            "object_fit": null,
            "grid_auto_columns": null,
            "margin": null,
            "display": null,
            "left": null
          }
        },
        "5c431bc935ef4c2b8a078cd991b3b02c": {
          "model_module": "@jupyter-widgets/controls",
          "model_name": "FloatProgressModel",
          "state": {
            "_view_name": "ProgressView",
            "style": "IPY_MODEL_74576f07dea2475a9accf8df1c56bf0f",
            "_dom_classes": [],
            "description": "Extraction completed...: 100%",
            "_model_name": "FloatProgressModel",
            "bar_style": "success",
            "max": 1,
            "_view_module": "@jupyter-widgets/controls",
            "_model_module_version": "1.5.0",
            "value": 1,
            "_view_count": null,
            "_view_module_version": "1.5.0",
            "orientation": "horizontal",
            "min": 0,
            "description_tooltip": null,
            "_model_module": "@jupyter-widgets/controls",
            "layout": "IPY_MODEL_18535aa7caaf4820b018de63b5a1cb7c"
          }
        },
        "671ee25e7873441388ef86f357ad555f": {
          "model_module": "@jupyter-widgets/controls",
          "model_name": "HTMLModel",
          "state": {
            "_view_name": "HTMLView",
            "style": "IPY_MODEL_fd268ed020a54d48a3bd8cbf2e5143c8",
            "_dom_classes": [],
            "description": "",
            "_model_name": "HTMLModel",
            "placeholder": "​",
            "_view_module": "@jupyter-widgets/controls",
            "_model_module_version": "1.5.0",
            "value": " 1/1 [00:08&lt;00:00,  8.16s/ file]",
            "_view_count": null,
            "_view_module_version": "1.5.0",
            "description_tooltip": null,
            "_model_module": "@jupyter-widgets/controls",
            "layout": "IPY_MODEL_0d04c4b447104acb804e2b2271cffc24"
          }
        },
        "74576f07dea2475a9accf8df1c56bf0f": {
          "model_module": "@jupyter-widgets/controls",
          "model_name": "ProgressStyleModel",
          "state": {
            "_view_name": "StyleView",
            "_model_name": "ProgressStyleModel",
            "description_width": "initial",
            "_view_module": "@jupyter-widgets/base",
            "_model_module_version": "1.5.0",
            "_view_count": null,
            "_view_module_version": "1.2.0",
            "bar_color": null,
            "_model_module": "@jupyter-widgets/controls"
          }
        },
        "18535aa7caaf4820b018de63b5a1cb7c": {
          "model_module": "@jupyter-widgets/base",
          "model_name": "LayoutModel",
          "state": {
            "_view_name": "LayoutView",
            "grid_template_rows": null,
            "right": null,
            "justify_content": null,
            "_view_module": "@jupyter-widgets/base",
            "overflow": null,
            "_model_module_version": "1.2.0",
            "_view_count": null,
            "flex_flow": null,
            "width": null,
            "min_width": null,
            "border": null,
            "align_items": null,
            "bottom": null,
            "_model_module": "@jupyter-widgets/base",
            "top": null,
            "grid_column": null,
            "overflow_y": null,
            "overflow_x": null,
            "grid_auto_flow": null,
            "grid_area": null,
            "grid_template_columns": null,
            "flex": null,
            "_model_name": "LayoutModel",
            "justify_items": null,
            "grid_row": null,
            "max_height": null,
            "align_content": null,
            "visibility": null,
            "align_self": null,
            "height": null,
            "min_height": null,
            "padding": null,
            "grid_auto_rows": null,
            "grid_gap": null,
            "max_width": null,
            "order": null,
            "_view_module_version": "1.2.0",
            "grid_template_areas": null,
            "object_position": null,
            "object_fit": null,
            "grid_auto_columns": null,
            "margin": null,
            "display": null,
            "left": null
          }
        },
        "fd268ed020a54d48a3bd8cbf2e5143c8": {
          "model_module": "@jupyter-widgets/controls",
          "model_name": "DescriptionStyleModel",
          "state": {
            "_view_name": "StyleView",
            "_model_name": "DescriptionStyleModel",
            "description_width": "",
            "_view_module": "@jupyter-widgets/base",
            "_model_module_version": "1.5.0",
            "_view_count": null,
            "_view_module_version": "1.2.0",
            "_model_module": "@jupyter-widgets/controls"
          }
        },
        "0d04c4b447104acb804e2b2271cffc24": {
          "model_module": "@jupyter-widgets/base",
          "model_name": "LayoutModel",
          "state": {
            "_view_name": "LayoutView",
            "grid_template_rows": null,
            "right": null,
            "justify_content": null,
            "_view_module": "@jupyter-widgets/base",
            "overflow": null,
            "_model_module_version": "1.2.0",
            "_view_count": null,
            "flex_flow": null,
            "width": null,
            "min_width": null,
            "border": null,
            "align_items": null,
            "bottom": null,
            "_model_module": "@jupyter-widgets/base",
            "top": null,
            "grid_column": null,
            "overflow_y": null,
            "overflow_x": null,
            "grid_auto_flow": null,
            "grid_area": null,
            "grid_template_columns": null,
            "flex": null,
            "_model_name": "LayoutModel",
            "justify_items": null,
            "grid_row": null,
            "max_height": null,
            "align_content": null,
            "visibility": null,
            "align_self": null,
            "height": null,
            "min_height": null,
            "padding": null,
            "grid_auto_rows": null,
            "grid_gap": null,
            "max_width": null,
            "order": null,
            "_view_module_version": "1.2.0",
            "grid_template_areas": null,
            "object_position": null,
            "object_fit": null,
            "grid_auto_columns": null,
            "margin": null,
            "display": null,
            "left": null
          }
        },
        "78199f3c08c94ebbbbcec0aeb125fcc3": {
          "model_module": "@jupyter-widgets/controls",
          "model_name": "HBoxModel",
          "state": {
            "_view_name": "HBoxView",
            "_dom_classes": [],
            "_model_name": "HBoxModel",
            "_view_module": "@jupyter-widgets/controls",
            "_model_module_version": "1.5.0",
            "_view_count": null,
            "_view_module_version": "1.5.0",
            "box_style": "",
            "layout": "IPY_MODEL_25016d6ec4884d3aa62699bd15be2175",
            "_model_module": "@jupyter-widgets/controls",
            "children": [
              "IPY_MODEL_21581b19077245a595ed91b916d9467c",
              "IPY_MODEL_b2c28ce31fe0436294d95a8318edb7b1"
            ]
          }
        },
        "25016d6ec4884d3aa62699bd15be2175": {
          "model_module": "@jupyter-widgets/base",
          "model_name": "LayoutModel",
          "state": {
            "_view_name": "LayoutView",
            "grid_template_rows": null,
            "right": null,
            "justify_content": null,
            "_view_module": "@jupyter-widgets/base",
            "overflow": null,
            "_model_module_version": "1.2.0",
            "_view_count": null,
            "flex_flow": null,
            "width": null,
            "min_width": null,
            "border": null,
            "align_items": null,
            "bottom": null,
            "_model_module": "@jupyter-widgets/base",
            "top": null,
            "grid_column": null,
            "overflow_y": null,
            "overflow_x": null,
            "grid_auto_flow": null,
            "grid_area": null,
            "grid_template_columns": null,
            "flex": null,
            "_model_name": "LayoutModel",
            "justify_items": null,
            "grid_row": null,
            "max_height": null,
            "align_content": null,
            "visibility": null,
            "align_self": null,
            "height": null,
            "min_height": null,
            "padding": null,
            "grid_auto_rows": null,
            "grid_gap": null,
            "max_width": null,
            "order": null,
            "_view_module_version": "1.2.0",
            "grid_template_areas": null,
            "object_position": null,
            "object_fit": null,
            "grid_auto_columns": null,
            "margin": null,
            "display": null,
            "left": null
          }
        },
        "21581b19077245a595ed91b916d9467c": {
          "model_module": "@jupyter-widgets/controls",
          "model_name": "FloatProgressModel",
          "state": {
            "_view_name": "ProgressView",
            "style": "IPY_MODEL_12c17c4e3ab3474fb4155a8c1dcd35b0",
            "_dom_classes": [],
            "description": "Generating splits...: 100%",
            "_model_name": "FloatProgressModel",
            "bar_style": "",
            "max": 1,
            "_view_module": "@jupyter-widgets/controls",
            "_model_module_version": "1.5.0",
            "value": 1,
            "_view_count": null,
            "_view_module_version": "1.5.0",
            "orientation": "horizontal",
            "min": 0,
            "description_tooltip": null,
            "_model_module": "@jupyter-widgets/controls",
            "layout": "IPY_MODEL_5cdeb75b2dd94f1c8da2cc94636a539e"
          }
        },
        "b2c28ce31fe0436294d95a8318edb7b1": {
          "model_module": "@jupyter-widgets/controls",
          "model_name": "HTMLModel",
          "state": {
            "_view_name": "HTMLView",
            "style": "IPY_MODEL_bc549dcf301f4fc592efec6162acd951",
            "_dom_classes": [],
            "description": "",
            "_model_name": "HTMLModel",
            "placeholder": "​",
            "_view_module": "@jupyter-widgets/controls",
            "_model_module_version": "1.5.0",
            "value": " 1/1 [03:42&lt;00:00, 222.33s/ splits]",
            "_view_count": null,
            "_view_module_version": "1.5.0",
            "description_tooltip": null,
            "_model_module": "@jupyter-widgets/controls",
            "layout": "IPY_MODEL_cf427d7d0acb4f62b6448442d696148b"
          }
        },
        "12c17c4e3ab3474fb4155a8c1dcd35b0": {
          "model_module": "@jupyter-widgets/controls",
          "model_name": "ProgressStyleModel",
          "state": {
            "_view_name": "StyleView",
            "_model_name": "ProgressStyleModel",
            "description_width": "initial",
            "_view_module": "@jupyter-widgets/base",
            "_model_module_version": "1.5.0",
            "_view_count": null,
            "_view_module_version": "1.2.0",
            "bar_color": null,
            "_model_module": "@jupyter-widgets/controls"
          }
        },
        "5cdeb75b2dd94f1c8da2cc94636a539e": {
          "model_module": "@jupyter-widgets/base",
          "model_name": "LayoutModel",
          "state": {
            "_view_name": "LayoutView",
            "grid_template_rows": null,
            "right": null,
            "justify_content": null,
            "_view_module": "@jupyter-widgets/base",
            "overflow": null,
            "_model_module_version": "1.2.0",
            "_view_count": null,
            "flex_flow": null,
            "width": null,
            "min_width": null,
            "border": null,
            "align_items": null,
            "bottom": null,
            "_model_module": "@jupyter-widgets/base",
            "top": null,
            "grid_column": null,
            "overflow_y": null,
            "overflow_x": null,
            "grid_auto_flow": null,
            "grid_area": null,
            "grid_template_columns": null,
            "flex": null,
            "_model_name": "LayoutModel",
            "justify_items": null,
            "grid_row": null,
            "max_height": null,
            "align_content": null,
            "visibility": null,
            "align_self": null,
            "height": null,
            "min_height": null,
            "padding": null,
            "grid_auto_rows": null,
            "grid_gap": null,
            "max_width": null,
            "order": null,
            "_view_module_version": "1.2.0",
            "grid_template_areas": null,
            "object_position": null,
            "object_fit": null,
            "grid_auto_columns": null,
            "margin": null,
            "display": null,
            "left": null
          }
        },
        "bc549dcf301f4fc592efec6162acd951": {
          "model_module": "@jupyter-widgets/controls",
          "model_name": "DescriptionStyleModel",
          "state": {
            "_view_name": "StyleView",
            "_model_name": "DescriptionStyleModel",
            "description_width": "",
            "_view_module": "@jupyter-widgets/base",
            "_model_module_version": "1.5.0",
            "_view_count": null,
            "_view_module_version": "1.2.0",
            "_model_module": "@jupyter-widgets/controls"
          }
        },
        "cf427d7d0acb4f62b6448442d696148b": {
          "model_module": "@jupyter-widgets/base",
          "model_name": "LayoutModel",
          "state": {
            "_view_name": "LayoutView",
            "grid_template_rows": null,
            "right": null,
            "justify_content": null,
            "_view_module": "@jupyter-widgets/base",
            "overflow": null,
            "_model_module_version": "1.2.0",
            "_view_count": null,
            "flex_flow": null,
            "width": null,
            "min_width": null,
            "border": null,
            "align_items": null,
            "bottom": null,
            "_model_module": "@jupyter-widgets/base",
            "top": null,
            "grid_column": null,
            "overflow_y": null,
            "overflow_x": null,
            "grid_auto_flow": null,
            "grid_area": null,
            "grid_template_columns": null,
            "flex": null,
            "_model_name": "LayoutModel",
            "justify_items": null,
            "grid_row": null,
            "max_height": null,
            "align_content": null,
            "visibility": null,
            "align_self": null,
            "height": null,
            "min_height": null,
            "padding": null,
            "grid_auto_rows": null,
            "grid_gap": null,
            "max_width": null,
            "order": null,
            "_view_module_version": "1.2.0",
            "grid_template_areas": null,
            "object_position": null,
            "object_fit": null,
            "grid_auto_columns": null,
            "margin": null,
            "display": null,
            "left": null
          }
        },
        "5337f2ca7fb74479860ef67a76db2e00": {
          "model_module": "@jupyter-widgets/controls",
          "model_name": "HBoxModel",
          "state": {
            "_view_name": "HBoxView",
            "_dom_classes": [],
            "_model_name": "HBoxModel",
            "_view_module": "@jupyter-widgets/controls",
            "_model_module_version": "1.5.0",
            "_view_count": null,
            "_view_module_version": "1.5.0",
            "box_style": "",
            "layout": "IPY_MODEL_e3f2503c1843433c825d5851928023f2",
            "_model_module": "@jupyter-widgets/controls",
            "children": [
              "IPY_MODEL_c3f549dc7ddd45549020ad24713c5d5c",
              "IPY_MODEL_9505b4a7bd15422a9586350a90639727"
            ]
          }
        },
        "e3f2503c1843433c825d5851928023f2": {
          "model_module": "@jupyter-widgets/base",
          "model_name": "LayoutModel",
          "state": {
            "_view_name": "LayoutView",
            "grid_template_rows": null,
            "right": null,
            "justify_content": null,
            "_view_module": "@jupyter-widgets/base",
            "overflow": null,
            "_model_module_version": "1.2.0",
            "_view_count": null,
            "flex_flow": null,
            "width": null,
            "min_width": null,
            "border": null,
            "align_items": null,
            "bottom": null,
            "_model_module": "@jupyter-widgets/base",
            "top": null,
            "grid_column": null,
            "overflow_y": null,
            "overflow_x": null,
            "grid_auto_flow": null,
            "grid_area": null,
            "grid_template_columns": null,
            "flex": null,
            "_model_name": "LayoutModel",
            "justify_items": null,
            "grid_row": null,
            "max_height": null,
            "align_content": null,
            "visibility": null,
            "align_self": null,
            "height": null,
            "min_height": null,
            "padding": null,
            "grid_auto_rows": null,
            "grid_gap": null,
            "max_width": null,
            "order": null,
            "_view_module_version": "1.2.0",
            "grid_template_areas": null,
            "object_position": null,
            "object_fit": null,
            "grid_auto_columns": null,
            "margin": null,
            "display": null,
            "left": null
          }
        },
        "c3f549dc7ddd45549020ad24713c5d5c": {
          "model_module": "@jupyter-widgets/controls",
          "model_name": "FloatProgressModel",
          "state": {
            "_view_name": "ProgressView",
            "style": "IPY_MODEL_9415d0940a9546fd962bef5615dbd923",
            "_dom_classes": [],
            "description": "Generating train examples...: 100%",
            "_model_name": "FloatProgressModel",
            "bar_style": "",
            "max": 1108752,
            "_view_module": "@jupyter-widgets/controls",
            "_model_module_version": "1.5.0",
            "value": 1108752,
            "_view_count": null,
            "_view_module_version": "1.5.0",
            "orientation": "horizontal",
            "min": 0,
            "description_tooltip": null,
            "_model_module": "@jupyter-widgets/controls",
            "layout": "IPY_MODEL_3ba08c1d37514a108ed12c04964f3697"
          }
        },
        "9505b4a7bd15422a9586350a90639727": {
          "model_module": "@jupyter-widgets/controls",
          "model_name": "HTMLModel",
          "state": {
            "_view_name": "HTMLView",
            "style": "IPY_MODEL_fa6cb995a26943ed9b1838e32eb8d6fa",
            "_dom_classes": [],
            "description": "",
            "_model_name": "HTMLModel",
            "placeholder": "​",
            "_view_module": "@jupyter-widgets/controls",
            "_model_module_version": "1.5.0",
            "value": " 1108752/1108752 [03:37&lt;00:00, 4768.03 examples/s]",
            "_view_count": null,
            "_view_module_version": "1.5.0",
            "description_tooltip": null,
            "_model_module": "@jupyter-widgets/controls",
            "layout": "IPY_MODEL_4aaae237f8d54979b057b7b0113055a4"
          }
        },
        "9415d0940a9546fd962bef5615dbd923": {
          "model_module": "@jupyter-widgets/controls",
          "model_name": "ProgressStyleModel",
          "state": {
            "_view_name": "StyleView",
            "_model_name": "ProgressStyleModel",
            "description_width": "initial",
            "_view_module": "@jupyter-widgets/base",
            "_model_module_version": "1.5.0",
            "_view_count": null,
            "_view_module_version": "1.2.0",
            "bar_color": null,
            "_model_module": "@jupyter-widgets/controls"
          }
        },
        "3ba08c1d37514a108ed12c04964f3697": {
          "model_module": "@jupyter-widgets/base",
          "model_name": "LayoutModel",
          "state": {
            "_view_name": "LayoutView",
            "grid_template_rows": null,
            "right": null,
            "justify_content": null,
            "_view_module": "@jupyter-widgets/base",
            "overflow": null,
            "_model_module_version": "1.2.0",
            "_view_count": null,
            "flex_flow": null,
            "width": null,
            "min_width": null,
            "border": null,
            "align_items": null,
            "bottom": null,
            "_model_module": "@jupyter-widgets/base",
            "top": null,
            "grid_column": null,
            "overflow_y": null,
            "overflow_x": null,
            "grid_auto_flow": null,
            "grid_area": null,
            "grid_template_columns": null,
            "flex": null,
            "_model_name": "LayoutModel",
            "justify_items": null,
            "grid_row": null,
            "max_height": null,
            "align_content": null,
            "visibility": null,
            "align_self": null,
            "height": null,
            "min_height": null,
            "padding": null,
            "grid_auto_rows": null,
            "grid_gap": null,
            "max_width": null,
            "order": null,
            "_view_module_version": "1.2.0",
            "grid_template_areas": null,
            "object_position": null,
            "object_fit": null,
            "grid_auto_columns": null,
            "margin": null,
            "display": null,
            "left": null
          }
        },
        "fa6cb995a26943ed9b1838e32eb8d6fa": {
          "model_module": "@jupyter-widgets/controls",
          "model_name": "DescriptionStyleModel",
          "state": {
            "_view_name": "StyleView",
            "_model_name": "DescriptionStyleModel",
            "description_width": "",
            "_view_module": "@jupyter-widgets/base",
            "_model_module_version": "1.5.0",
            "_view_count": null,
            "_view_module_version": "1.2.0",
            "_model_module": "@jupyter-widgets/controls"
          }
        },
        "4aaae237f8d54979b057b7b0113055a4": {
          "model_module": "@jupyter-widgets/base",
          "model_name": "LayoutModel",
          "state": {
            "_view_name": "LayoutView",
            "grid_template_rows": null,
            "right": null,
            "justify_content": null,
            "_view_module": "@jupyter-widgets/base",
            "overflow": null,
            "_model_module_version": "1.2.0",
            "_view_count": null,
            "flex_flow": null,
            "width": null,
            "min_width": null,
            "border": null,
            "align_items": null,
            "bottom": null,
            "_model_module": "@jupyter-widgets/base",
            "top": null,
            "grid_column": null,
            "overflow_y": null,
            "overflow_x": null,
            "grid_auto_flow": null,
            "grid_area": null,
            "grid_template_columns": null,
            "flex": null,
            "_model_name": "LayoutModel",
            "justify_items": null,
            "grid_row": null,
            "max_height": null,
            "align_content": null,
            "visibility": null,
            "align_self": null,
            "height": null,
            "min_height": null,
            "padding": null,
            "grid_auto_rows": null,
            "grid_gap": null,
            "max_width": null,
            "order": null,
            "_view_module_version": "1.2.0",
            "grid_template_areas": null,
            "object_position": null,
            "object_fit": null,
            "grid_auto_columns": null,
            "margin": null,
            "display": null,
            "left": null
          }
        },
        "3aa73ba3339044df94e73b5ba48db5c3": {
          "model_module": "@jupyter-widgets/controls",
          "model_name": "HBoxModel",
          "state": {
            "_view_name": "HBoxView",
            "_dom_classes": [],
            "_model_name": "HBoxModel",
            "_view_module": "@jupyter-widgets/controls",
            "_model_module_version": "1.5.0",
            "_view_count": null,
            "_view_module_version": "1.5.0",
            "box_style": "",
            "layout": "IPY_MODEL_668de31d9e044b988511d920eb691dd6",
            "_model_module": "@jupyter-widgets/controls",
            "children": [
              "IPY_MODEL_7cd02babbdc0465e84e66b976e7fc752",
              "IPY_MODEL_aa48903cf5294cb39c9c4ce4c373fb16"
            ]
          }
        },
        "668de31d9e044b988511d920eb691dd6": {
          "model_module": "@jupyter-widgets/base",
          "model_name": "LayoutModel",
          "state": {
            "_view_name": "LayoutView",
            "grid_template_rows": null,
            "right": null,
            "justify_content": null,
            "_view_module": "@jupyter-widgets/base",
            "overflow": null,
            "_model_module_version": "1.2.0",
            "_view_count": null,
            "flex_flow": null,
            "width": null,
            "min_width": null,
            "border": null,
            "align_items": null,
            "bottom": null,
            "_model_module": "@jupyter-widgets/base",
            "top": null,
            "grid_column": null,
            "overflow_y": null,
            "overflow_x": null,
            "grid_auto_flow": null,
            "grid_area": null,
            "grid_template_columns": null,
            "flex": null,
            "_model_name": "LayoutModel",
            "justify_items": null,
            "grid_row": null,
            "max_height": null,
            "align_content": null,
            "visibility": null,
            "align_self": null,
            "height": null,
            "min_height": null,
            "padding": null,
            "grid_auto_rows": null,
            "grid_gap": null,
            "max_width": null,
            "order": null,
            "_view_module_version": "1.2.0",
            "grid_template_areas": null,
            "object_position": null,
            "object_fit": null,
            "grid_auto_columns": null,
            "margin": null,
            "display": null,
            "left": null
          }
        },
        "7cd02babbdc0465e84e66b976e7fc752": {
          "model_module": "@jupyter-widgets/controls",
          "model_name": "FloatProgressModel",
          "state": {
            "_view_name": "ProgressView",
            "style": "IPY_MODEL_71d088bd7f6a4bf49c87e8f6223030bf",
            "_dom_classes": [],
            "description": "Shuffling opus-train.tfrecord...: 100%",
            "_model_name": "FloatProgressModel",
            "bar_style": "",
            "max": 1108752,
            "_view_module": "@jupyter-widgets/controls",
            "_model_module_version": "1.5.0",
            "value": 1108752,
            "_view_count": null,
            "_view_module_version": "1.5.0",
            "orientation": "horizontal",
            "min": 0,
            "description_tooltip": null,
            "_model_module": "@jupyter-widgets/controls",
            "layout": "IPY_MODEL_c4e342bee5a04f1ebdde6b3a9e00f282"
          }
        },
        "aa48903cf5294cb39c9c4ce4c373fb16": {
          "model_module": "@jupyter-widgets/controls",
          "model_name": "HTMLModel",
          "state": {
            "_view_name": "HTMLView",
            "style": "IPY_MODEL_9799e17a9aea4a40b50818878a8ba4c0",
            "_dom_classes": [],
            "description": "",
            "_model_name": "HTMLModel",
            "placeholder": "​",
            "_view_module": "@jupyter-widgets/controls",
            "_model_module_version": "1.5.0",
            "value": " 1108752/1108752 [00:04&lt;00:00, 8236.02 examples/s]",
            "_view_count": null,
            "_view_module_version": "1.5.0",
            "description_tooltip": null,
            "_model_module": "@jupyter-widgets/controls",
            "layout": "IPY_MODEL_ddc86370425f42f69e656a752d4d059e"
          }
        },
        "71d088bd7f6a4bf49c87e8f6223030bf": {
          "model_module": "@jupyter-widgets/controls",
          "model_name": "ProgressStyleModel",
          "state": {
            "_view_name": "StyleView",
            "_model_name": "ProgressStyleModel",
            "description_width": "initial",
            "_view_module": "@jupyter-widgets/base",
            "_model_module_version": "1.5.0",
            "_view_count": null,
            "_view_module_version": "1.2.0",
            "bar_color": null,
            "_model_module": "@jupyter-widgets/controls"
          }
        },
        "c4e342bee5a04f1ebdde6b3a9e00f282": {
          "model_module": "@jupyter-widgets/base",
          "model_name": "LayoutModel",
          "state": {
            "_view_name": "LayoutView",
            "grid_template_rows": null,
            "right": null,
            "justify_content": null,
            "_view_module": "@jupyter-widgets/base",
            "overflow": null,
            "_model_module_version": "1.2.0",
            "_view_count": null,
            "flex_flow": null,
            "width": null,
            "min_width": null,
            "border": null,
            "align_items": null,
            "bottom": null,
            "_model_module": "@jupyter-widgets/base",
            "top": null,
            "grid_column": null,
            "overflow_y": null,
            "overflow_x": null,
            "grid_auto_flow": null,
            "grid_area": null,
            "grid_template_columns": null,
            "flex": null,
            "_model_name": "LayoutModel",
            "justify_items": null,
            "grid_row": null,
            "max_height": null,
            "align_content": null,
            "visibility": null,
            "align_self": null,
            "height": null,
            "min_height": null,
            "padding": null,
            "grid_auto_rows": null,
            "grid_gap": null,
            "max_width": null,
            "order": null,
            "_view_module_version": "1.2.0",
            "grid_template_areas": null,
            "object_position": null,
            "object_fit": null,
            "grid_auto_columns": null,
            "margin": null,
            "display": null,
            "left": null
          }
        },
        "9799e17a9aea4a40b50818878a8ba4c0": {
          "model_module": "@jupyter-widgets/controls",
          "model_name": "DescriptionStyleModel",
          "state": {
            "_view_name": "StyleView",
            "_model_name": "DescriptionStyleModel",
            "description_width": "",
            "_view_module": "@jupyter-widgets/base",
            "_model_module_version": "1.5.0",
            "_view_count": null,
            "_view_module_version": "1.2.0",
            "_model_module": "@jupyter-widgets/controls"
          }
        },
        "ddc86370425f42f69e656a752d4d059e": {
          "model_module": "@jupyter-widgets/base",
          "model_name": "LayoutModel",
          "state": {
            "_view_name": "LayoutView",
            "grid_template_rows": null,
            "right": null,
            "justify_content": null,
            "_view_module": "@jupyter-widgets/base",
            "overflow": null,
            "_model_module_version": "1.2.0",
            "_view_count": null,
            "flex_flow": null,
            "width": null,
            "min_width": null,
            "border": null,
            "align_items": null,
            "bottom": null,
            "_model_module": "@jupyter-widgets/base",
            "top": null,
            "grid_column": null,
            "overflow_y": null,
            "overflow_x": null,
            "grid_auto_flow": null,
            "grid_area": null,
            "grid_template_columns": null,
            "flex": null,
            "_model_name": "LayoutModel",
            "justify_items": null,
            "grid_row": null,
            "max_height": null,
            "align_content": null,
            "visibility": null,
            "align_self": null,
            "height": null,
            "min_height": null,
            "padding": null,
            "grid_auto_rows": null,
            "grid_gap": null,
            "max_width": null,
            "order": null,
            "_view_module_version": "1.2.0",
            "grid_template_areas": null,
            "object_position": null,
            "object_fit": null,
            "grid_auto_columns": null,
            "margin": null,
            "display": null,
            "left": null
          }
        }
      }
    },
    "accelerator": "GPU"
  },
  "cells": [
    {
      "cell_type": "markdown",
      "metadata": {
        "id": "view-in-github",
        "colab_type": "text"
      },
      "source": [
        "<a href=\"https://colab.research.google.com/github/techsouravganguly/English_Text_to_German_Text/blob/main/Neural_Machine_Translation_English_to_German.ipynb\" target=\"_parent\"><img src=\"https://colab.research.google.com/assets/colab-badge.svg\" alt=\"Open In Colab\"/></a>"
      ]
    },
    {
      "cell_type": "markdown",
      "metadata": {
        "id": "ZSACUEXzQ5t9"
      },
      "source": [
        "Importing the Modules"
      ]
    },
    {
      "cell_type": "code",
      "metadata": {
        "colab": {
          "base_uri": "https://localhost:8080/"
        },
        "id": "BQb1ToCd8S8K",
        "outputId": "aba499e5-447a-4006-b2a9-edb8411b2133"
      },
      "source": [
        "#importing require modules \n",
        "\n",
        "from termcolor import colored\n",
        "import random\n",
        "import numpy as np\n",
        "import os\n",
        "!pip install -q -U trax\n",
        "import trax\n",
        "\n",
        "import trax\n",
        "from trax import layers as tl\n",
        "from trax.fastmath import numpy as fastnp\n",
        "from trax.supervised import training\n",
        "\n",
        "!pip list | grep trax"
      ],
      "execution_count": 1,
      "outputs": [
        {
          "output_type": "stream",
          "text": [
            "\u001b[K     |████████████████████████████████| 629 kB 7.4 MB/s \n",
            "\u001b[K     |████████████████████████████████| 152 kB 13.7 MB/s \n",
            "\u001b[K     |████████████████████████████████| 4.3 MB 13.7 MB/s \n",
            "\u001b[K     |████████████████████████████████| 366 kB 60.3 MB/s \n",
            "\u001b[K     |████████████████████████████████| 4.0 MB 55.2 MB/s \n",
            "\u001b[K     |████████████████████████████████| 54 kB 3.7 MB/s \n",
            "\u001b[K     |████████████████████████████████| 249 kB 47.9 MB/s \n",
            "\u001b[K     |████████████████████████████████| 1.2 MB 43.8 MB/s \n",
            "\u001b[K     |████████████████████████████████| 2.6 MB 53.9 MB/s \n",
            "\u001b[K     |████████████████████████████████| 895 kB 53.7 MB/s \n",
            "\u001b[K     |████████████████████████████████| 3.3 MB 45.6 MB/s \n",
            "\u001b[K     |████████████████████████████████| 636 kB 58.6 MB/s \n",
            "\u001b[?25htrax                          1.3.9\n"
          ],
          "name": "stdout"
        }
      ]
    },
    {
      "cell_type": "markdown",
      "metadata": {
        "id": "h8e7FpclRHGV"
      },
      "source": [
        "Importing the Data"
      ]
    },
    {
      "cell_type": "code",
      "metadata": {
        "colab": {
          "base_uri": "https://localhost:8080/",
          "height": 284,
          "referenced_widgets": [
            "a1002613f02b42a8a40a9e0f1852d91e",
            "b9c93972eec24d9b8257bb1d0b8a1b8a",
            "7367e569106143c9b37621a31fce3b30",
            "fa27b0fe1faf4fd981b8eb9a4af7ecd6",
            "848ef947d4ec47a7bf7ef31f75de9046",
            "ae068f9fdbf74a528d9e1e845c882240",
            "7be50a3497c74dff8a067013b4a135e3",
            "5a31a36b20864ce3baf80f245fc9ba4e",
            "13949df47ad644e89f6f1c43ee0d2f7c",
            "8434b0f0b8bf4436b400af357bf7f3fa",
            "a656eaf4aff74498987563ed53307aa1",
            "cd837cfc8bf146048e404983641642aa",
            "fbf54318c83d4001b1d658602c349183",
            "571bba4e4a8e44259f5847a2a193b070",
            "372dc139f774481ba358ceb475c637e5",
            "1e38af7a666241c8803e59db78f878ee",
            "badbbcb6ad694eec915787bde269d571",
            "e2831d6cd43a4c51b3549b0e14547207",
            "5c431bc935ef4c2b8a078cd991b3b02c",
            "671ee25e7873441388ef86f357ad555f",
            "74576f07dea2475a9accf8df1c56bf0f",
            "18535aa7caaf4820b018de63b5a1cb7c",
            "fd268ed020a54d48a3bd8cbf2e5143c8",
            "0d04c4b447104acb804e2b2271cffc24",
            "78199f3c08c94ebbbbcec0aeb125fcc3",
            "25016d6ec4884d3aa62699bd15be2175",
            "21581b19077245a595ed91b916d9467c",
            "b2c28ce31fe0436294d95a8318edb7b1",
            "12c17c4e3ab3474fb4155a8c1dcd35b0",
            "5cdeb75b2dd94f1c8da2cc94636a539e",
            "bc549dcf301f4fc592efec6162acd951",
            "cf427d7d0acb4f62b6448442d696148b",
            "5337f2ca7fb74479860ef67a76db2e00",
            "e3f2503c1843433c825d5851928023f2",
            "c3f549dc7ddd45549020ad24713c5d5c",
            "9505b4a7bd15422a9586350a90639727",
            "9415d0940a9546fd962bef5615dbd923",
            "3ba08c1d37514a108ed12c04964f3697",
            "fa6cb995a26943ed9b1838e32eb8d6fa",
            "4aaae237f8d54979b057b7b0113055a4",
            "3aa73ba3339044df94e73b5ba48db5c3",
            "668de31d9e044b988511d920eb691dd6",
            "7cd02babbdc0465e84e66b976e7fc752",
            "aa48903cf5294cb39c9c4ce4c373fb16",
            "71d088bd7f6a4bf49c87e8f6223030bf",
            "c4e342bee5a04f1ebdde6b3a9e00f282",
            "9799e17a9aea4a40b50818878a8ba4c0",
            "ddc86370425f42f69e656a752d4d059e"
          ]
        },
        "id": "iypx3Nqp81A-",
        "outputId": "35f91360-2965-4ce6-a66c-d277cf7bf293"
      },
      "source": [
        "# setting the generator function for the eval and train set\n",
        "train_stream_fn = trax.data.TFDS('opus/medical',\n",
        "                                 data_dir='./data/',\n",
        "                                 keys=('en', 'de'),\n",
        "                                 eval_holdout_size=0.01, # 1% for eval\n",
        "                                 train=True\n",
        "                                )\n",
        "\n",
        "eval_stream_fn = trax.data.TFDS('opus/medical',\n",
        "                                data_dir='./data/',\n",
        "                                keys=('en', 'de'),\n",
        "                                eval_holdout_size=0.01, # 1% for eval                                \n",
        "                                train=False\n",
        "                               )"
      ],
      "execution_count": 2,
      "outputs": [
        {
          "output_type": "stream",
          "text": [
            "/usr/local/lib/python3.7/dist-packages/jax/lib/xla_bridge.py:374: UserWarning: jax.host_id has been renamed to jax.process_index. This alias will eventually be removed; please update your code.\n",
            "  \"jax.host_id has been renamed to jax.process_index. This alias \"\n",
            "/usr/local/lib/python3.7/dist-packages/jax/lib/xla_bridge.py:387: UserWarning: jax.host_count has been renamed to jax.process_count. This alias will eventually be removed; please update your code.\n",
            "  \"jax.host_count has been renamed to jax.process_count. This alias \"\n"
          ],
          "name": "stderr"
        },
        {
          "output_type": "stream",
          "text": [
            "\u001b[1mDownloading and preparing dataset 34.29 MiB (download: 34.29 MiB, generated: 188.85 MiB, total: 223.13 MiB) to ./data/opus/medical/0.1.0...\u001b[0m\n"
          ],
          "name": "stdout"
        },
        {
          "output_type": "display_data",
          "data": {
            "application/vnd.jupyter.widget-view+json": {
              "model_id": "a1002613f02b42a8a40a9e0f1852d91e",
              "version_minor": 0,
              "version_major": 2
            },
            "text/plain": [
              "HBox(children=(FloatProgress(value=1.0, bar_style='info', description='Dl Completed...', max=1.0, style=Progre…"
            ]
          },
          "metadata": {
            "tags": []
          }
        },
        {
          "output_type": "display_data",
          "data": {
            "application/vnd.jupyter.widget-view+json": {
              "model_id": "13949df47ad644e89f6f1c43ee0d2f7c",
              "version_minor": 0,
              "version_major": 2
            },
            "text/plain": [
              "HBox(children=(FloatProgress(value=1.0, bar_style='info', description='Dl Size...', max=1.0, style=ProgressSty…"
            ]
          },
          "metadata": {
            "tags": []
          }
        },
        {
          "output_type": "display_data",
          "data": {
            "application/vnd.jupyter.widget-view+json": {
              "model_id": "badbbcb6ad694eec915787bde269d571",
              "version_minor": 0,
              "version_major": 2
            },
            "text/plain": [
              "HBox(children=(FloatProgress(value=1.0, bar_style='info', description='Extraction completed...', max=1.0, styl…"
            ]
          },
          "metadata": {
            "tags": []
          }
        },
        {
          "output_type": "stream",
          "text": [
            "\n",
            "\n",
            "\n"
          ],
          "name": "stdout"
        },
        {
          "output_type": "display_data",
          "data": {
            "application/vnd.jupyter.widget-view+json": {
              "model_id": "78199f3c08c94ebbbbcec0aeb125fcc3",
              "version_minor": 0,
              "version_major": 2
            },
            "text/plain": [
              "HBox(children=(FloatProgress(value=0.0, description='Generating splits...', max=1.0, style=ProgressStyle(descr…"
            ]
          },
          "metadata": {
            "tags": []
          }
        },
        {
          "output_type": "display_data",
          "data": {
            "application/vnd.jupyter.widget-view+json": {
              "model_id": "5337f2ca7fb74479860ef67a76db2e00",
              "version_minor": 0,
              "version_major": 2
            },
            "text/plain": [
              "HBox(children=(FloatProgress(value=0.0, description='Generating train examples...', max=1108752.0, style=Progr…"
            ]
          },
          "metadata": {
            "tags": []
          }
        },
        {
          "output_type": "display_data",
          "data": {
            "application/vnd.jupyter.widget-view+json": {
              "model_id": "3aa73ba3339044df94e73b5ba48db5c3",
              "version_minor": 0,
              "version_major": 2
            },
            "text/plain": [
              "HBox(children=(FloatProgress(value=0.0, description='Shuffling opus-train.tfrecord...', max=1108752.0, style=P…"
            ]
          },
          "metadata": {
            "tags": []
          }
        },
        {
          "output_type": "stream",
          "text": [
            "\r\u001b[1mDataset opus downloaded and prepared to ./data/opus/medical/0.1.0. Subsequent calls will reuse this data.\u001b[0m\n"
          ],
          "name": "stdout"
        }
      ]
    },
    {
      "cell_type": "markdown",
      "metadata": {
        "id": "TenKEVazRUKu"
      },
      "source": [
        "Seeing the raw data "
      ]
    },
    {
      "cell_type": "code",
      "metadata": {
        "colab": {
          "base_uri": "https://localhost:8080/"
        },
        "id": "bBAl8aKj_P74",
        "outputId": "67c0b173-31db-4f97-ba3e-aac3ea0296f1"
      },
      "source": [
        "\n",
        "# seeing some dataset from eval and train set\n",
        "train_stream = train_stream_fn()\n",
        "print(colored('train data (en, de) tuple:', 'red'), next(train_stream))\n",
        "print()\n",
        "\n",
        "eval_stream = eval_stream_fn()\n",
        "print(colored('eval data (en, de) tuple:', 'red'), next(eval_stream))"
      ],
      "execution_count": 3,
      "outputs": [
        {
          "output_type": "stream",
          "text": [
            "\u001b[31mtrain data (en, de) tuple:\u001b[0m (b'Tel: +421 2 57 103 777\\n', b'Tel: +421 2 57 103 777\\n')\n",
            "\n",
            "\u001b[31meval data (en, de) tuple:\u001b[0m (b'Subcutaneous use and intravenous use.\\n', b'Subkutane Anwendung und intraven\\xc3\\xb6se Anwendung.\\n')\n"
          ],
          "name": "stdout"
        }
      ]
    },
    {
      "cell_type": "markdown",
      "metadata": {
        "id": "CzTX6wxqRdJl"
      },
      "source": [
        "Setting The Vocab"
      ]
    },
    {
      "cell_type": "code",
      "metadata": {
        "id": "ZAely-sX_UMe"
      },
      "source": [
        "#setting up the Vocab for the tokenize train and eval set\n",
        "VOCAB_FILE = 'ende_32k.subword'\n",
        "VOCAB_DIR = '/content/drive/MyDrive/data/'\n",
        "\n",
        "# Tokenize the dataset.\n",
        "tokenized_train_stream = trax.data.Tokenize(vocab_file=VOCAB_FILE, vocab_dir=VOCAB_DIR)(train_stream)\n",
        "tokenized_eval_stream = trax.data.Tokenize(vocab_file=VOCAB_FILE, vocab_dir=VOCAB_DIR)(eval_stream)"
      ],
      "execution_count": 4,
      "outputs": []
    },
    {
      "cell_type": "markdown",
      "metadata": {
        "id": "zZsQDg5CRnd3"
      },
      "source": [
        "Adding End of the Sentence in each input and target"
      ]
    },
    {
      "cell_type": "code",
      "metadata": {
        "id": "3ZbsBF4bBWqp"
      },
      "source": [
        "# adding EOs at the end of each sentence.\n",
        "\n",
        "EOS = 1\n",
        "\n",
        "def append_eos(stream):\n",
        "  for (inputs, targets) in stream:\n",
        "    inputs = list(inputs) + [EOS]\n",
        "    targets = list(targets) + [EOS]\n",
        "    yield np.array(inputs), np.array(targets)\n",
        "\n",
        "tokenized_train_stream = append_eos(tokenized_train_stream)\n",
        "tokenized_eval_stream = append_eos(tokenized_eval_stream) "
      ],
      "execution_count": 5,
      "outputs": []
    },
    {
      "cell_type": "markdown",
      "metadata": {
        "id": "K9FDcxLXR0Fv"
      },
      "source": [
        "Cutting the all sentences to 256 length"
      ]
    },
    {
      "cell_type": "code",
      "metadata": {
        "colab": {
          "base_uri": "https://localhost:8080/"
        },
        "id": "tFqkvcs2DvWs",
        "outputId": "b078f8af-65eb-4450-fb5c-d1002033481f"
      },
      "source": [
        "# Filter too long sentences to not run out of memory.\n",
        "# length_keys=[0, 1] means we filter both English and German sentences, so\n",
        "# both much be not longer that 256 tokens for training / 512 for eval.\n",
        "\n",
        "filtered_train_stream = trax.data.FilterByLength(max_length=256, length_keys=[0, 1])(tokenized_train_stream)\n",
        "filtered_eval_stream = trax.data.FilterByLength(max_length=256, length_keys=[0, 1])(tokenized_eval_stream)\n",
        "\n",
        "#printing the sample input-target pair\n",
        "train_input, train_target = next(filtered_train_stream)\n",
        "print(train_input)\n",
        "print(train_target)"
      ],
      "execution_count": 6,
      "outputs": [
        {
          "output_type": "stream",
          "text": [
            "[ 2538  2248    30 12114 23184 16889     5     2 20852  6456 20592  5812\n",
            "  3932    96  5178  3851    30  7891  3550 30650  4729   992     1]\n",
            "[ 1872    11  3544    39  7019 17877 30432    23  6845    10 14222    47\n",
            "  4004    18 21674     5 27467  9513   920   188 10630    18  3550 30650\n",
            "  4729   992     1]\n"
          ],
          "name": "stdout"
        }
      ]
    },
    {
      "cell_type": "markdown",
      "metadata": {
        "id": "Y8suL9jKSKkU"
      },
      "source": [
        "Helper function for Tokenizing and Detokenizing"
      ]
    },
    {
      "cell_type": "code",
      "metadata": {
        "id": "ZmCprWFqE5mT"
      },
      "source": [
        "# setting up for the tokenizing and detokenizing \n",
        "# of the sentences\n",
        "def tokenize(input_str, vocab_file=None, vocab_dir = None):\n",
        "  \"\"\"Encodes a string into an array of integer\n",
        "  Args:\n",
        "    input_str (str) : human-readable string\n",
        "    vocab_file (str): filename of vocab\n",
        "    vocab_dir (str) : path of the vocab directory\n",
        "  Retruns : \n",
        "    numpy.ndarray: tokenized version of the input string\n",
        "  \"\"\"\n",
        "  EOS = 1\n",
        "  inputs = next(trax.data.tokenize(iter([input_str]),\n",
        "                                   vocab_file = vocab_file, vocab_dir = vocab_dir))\n",
        "  inputs = list(inputs) + [EOS]\n",
        "  batch_inputs = np.reshape(np.array(inputs), [1, -1])\n",
        "  return batch_inputs\n",
        "\n",
        "def detokenize(integers, vocab_file = None, vocab_dir=None):\n",
        "  \"\"\"Detokenize the array of integer to human readable string\n",
        "  Args:\n",
        "    integers (np.ndarray): array of integers\n",
        "    vocab_file (str): filename of vocab\n",
        "    vocab_dir (str) : path of the vocab directory\n",
        "\n",
        "  Return:\n",
        "    str: the decoded sentence.\n",
        "  \"\"\"\n",
        "  integers = list(np.squeeze(integers))\n",
        "  EOS = 1\n",
        "  if EOS in integers:\n",
        "    integers = integers[:integers.index(EOS)]\n",
        "  \n",
        "  return trax.data.detokenize(integers, vocab_file=vocab_file, vocab_dir= vocab_dir)\n",
        "  \n"
      ],
      "execution_count": 7,
      "outputs": []
    },
    {
      "cell_type": "markdown",
      "metadata": {
        "id": "OJLsss5JSYO9"
      },
      "source": [
        "Seeing the result tokenize and detokenize"
      ]
    },
    {
      "cell_type": "code",
      "metadata": {
        "colab": {
          "base_uri": "https://localhost:8080/"
        },
        "id": "XBznSbYyK-d4",
        "outputId": "f60bfefb-504c-433f-b600-0a954dbeaf80"
      },
      "source": [
        "# Detokenize an input-target pair of tokenized sentences\n",
        "print(colored(f'Single detokenized example input:', 'red'), detokenize(train_input, vocab_file=VOCAB_FILE, vocab_dir=VOCAB_DIR))\n",
        "print(colored(f'Single detokenized example target:', 'red'), detokenize(train_target, vocab_file=VOCAB_FILE, vocab_dir=VOCAB_DIR))\n",
        "print()\n",
        "\n",
        "# Tokenize and detokenize a word that is not explicitly saved in the vocabulary file.\n",
        "# See how it combines the subwords -- 'hell' and 'o'-- to form the word 'hello'.\n",
        "print(colored(f\"tokenize('hello'): \", 'green'), tokenize('hello', vocab_file=VOCAB_FILE, vocab_dir=VOCAB_DIR))\n",
        "print(colored(f\"detokenize([17332, 140, 1]): \", 'green'), detokenize([17332, 140, 1], vocab_file=VOCAB_FILE, vocab_dir=VOCAB_DIR))"
      ],
      "execution_count": 8,
      "outputs": [
        {
          "output_type": "stream",
          "text": [
            "\u001b[31mSingle detokenized example input:\u001b[0m During treatment with olanzapine, adolescents gained significantly more weight compared with adults.\n",
            "\n",
            "\u001b[31mSingle detokenized example target:\u001b[0m Während der Behandlung mit Olanzapin nahmen die Jugendlichen im Vergleich zu Erwachsenen signifikant mehr Gewicht zu.\n",
            "\n",
            "\n",
            "\u001b[32mtokenize('hello'): \u001b[0m [[17332   140     1]]\n",
            "\u001b[32mdetokenize([17332, 140, 1]): \u001b[0m hello\n"
          ],
          "name": "stdout"
        }
      ]
    },
    {
      "cell_type": "markdown",
      "metadata": {
        "id": "gBGd4Mo5Sum7"
      },
      "source": [
        "Implementing the Buckting "
      ]
    },
    {
      "cell_type": "code",
      "metadata": {
        "id": "yq_poGx1NifS"
      },
      "source": [
        "# Bucketing to create streams of batches.\n",
        "\n",
        "# Buckets are defined in terms of boundaries and batch sizes.\n",
        "# Batch_sizes[i] determines the batch size for items with length < boundaries[i]\n",
        "# So below, we'll take a batch of 256 sentences of length < 8, 128 if length is\n",
        "# between 8 and 16, and so on -- and only 2 if length is over 512.\n",
        "\n",
        "boundaries = [8, 16, 32, 64, 128, 256, 512]\n",
        "batch_sizes = [256, 128, 64, 32, 16, 8, 4, 2]\n",
        "\n",
        "#createing generator for bucketing\n",
        "train_batch_stream = trax.data.BucketByLength(boundaries,\n",
        "                                              batch_sizes, length_keys=[0,1]\n",
        "                                              )(filtered_train_stream)\n",
        "eval_batch_stream = trax.data.BucketByLength(boundaries,\n",
        "                                              batch_sizes, length_keys=[0,1]\n",
        "                                              )(filtered_eval_stream)\n",
        "\n",
        "# Add masking for the padding (0s).\n",
        "train_batch_stream = trax.data.AddLossWeights(id_to_mask=0)(train_batch_stream)\n",
        "eval_batch_stream = trax.data.AddLossWeights(id_to_mask=0)(eval_batch_stream)\n"
      ],
      "execution_count": 9,
      "outputs": []
    },
    {
      "cell_type": "markdown",
      "metadata": {
        "id": "Q1be9oTTQjgO"
      },
      "source": [
        "Exploting the data "
      ]
    },
    {
      "cell_type": "code",
      "metadata": {
        "colab": {
          "base_uri": "https://localhost:8080/"
        },
        "id": "4DUwMA3ES8JU",
        "outputId": "475f6c9b-d6aa-45c4-8f5f-7f569c527d24"
      },
      "source": [
        "input_batch, target_batch, mask_batch = next(train_batch_stream)\n",
        "\n",
        "# let's see the data type of a batch\n",
        "print(\"input_batch data type: \", type(input_batch))\n",
        "print(\"target_batch data type: \", type(target_batch))\n",
        "\n",
        "# let's see the shape of this particular batch (batch length, sentence length)\n",
        "print(\"input_batch shape: \", input_batch.shape)\n",
        "print(\"target_batch shape: \", target_batch.shape)"
      ],
      "execution_count": 10,
      "outputs": [
        {
          "output_type": "stream",
          "text": [
            "input_batch data type:  <class 'numpy.ndarray'>\n",
            "target_batch data type:  <class 'numpy.ndarray'>\n",
            "input_batch shape:  (32, 64)\n",
            "target_batch shape:  (32, 64)\n"
          ],
          "name": "stdout"
        }
      ]
    },
    {
      "cell_type": "code",
      "metadata": {
        "colab": {
          "base_uri": "https://localhost:8080/"
        },
        "id": "qByVDHs5TB5I",
        "outputId": "7f5092d6-03ee-4ae0-aeed-626ec015020f"
      },
      "source": [
        "# pick a random index less than the batch size.\n",
        "index = random.randrange(len(input_batch))\n",
        "\n",
        "# use the index to grab an entry from the input and target batch\n",
        "print(colored('THIS IS THE ENGLISH SENTENCE: \\n', 'red'), detokenize(input_batch[index], vocab_file=VOCAB_FILE, vocab_dir=VOCAB_DIR), '\\n')\n",
        "print(colored('THIS IS THE TOKENIZED VERSION OF THE ENGLISH SENTENCE: \\n ', 'red'), input_batch[index], '\\n')\n",
        "print(colored('THIS IS THE GERMAN TRANSLATION: \\n', 'red'), detokenize(target_batch[index], vocab_file=VOCAB_FILE, vocab_dir=VOCAB_DIR), '\\n')\n",
        "print(colored('THIS IS THE TOKENIZED VERSION OF THE GERMAN TRANSLATION: \\n', 'red'), target_batch[index], '\\n')"
      ],
      "execution_count": 11,
      "outputs": [
        {
          "output_type": "stream",
          "text": [
            "\u001b[31mTHIS IS THE ENGLISH SENTENCE: \n",
            "\u001b[0m Kidneys and urinary tract (no effects were found to be common); uncommon: blood in the urine, proteins in the urine, sugar in the urine; rare: urge to pass urine, kidney pain, passing urine frequently.\n",
            " \n",
            "\n",
            "\u001b[31mTHIS IS THE TOKENIZED VERSION OF THE ENGLISH SENTENCE: \n",
            " \u001b[0m [ 5381 17607  3093     8  8670  6086   105 19166     5    50   154  1743\n",
            "   152  1103     9    32   568  8076 19124  6847    64  6196     6     4\n",
            "  8670   510     2 13355   823     6     4  8670   510     2  4968     6\n",
            "     4  8670   510   115  7227    64  7628     9  2685  8670   510     2\n",
            " 12220  5509 12095     2 19632  8670   510  7326  3550 30650  4729   992\n",
            "     1     0     0     0] \n",
            "\n",
            "\u001b[31mTHIS IS THE GERMAN TRANSLATION: \n",
            "\u001b[0m Harndrang, Nierenschmerzen, häufiges Wasserlassen.\n",
            " \n",
            "\n",
            "\u001b[31mTHIS IS THE TOKENIZED VERSION OF THE GERMAN TRANSLATION: \n",
            "\u001b[0m [ 5135 14970  2920     2  6262  4594 27552    28     2 20052    33  3736\n",
            "   530  3550 30650  4729   992     1     0     0     0     0     0     0\n",
            "     0     0     0     0     0     0     0     0     0     0     0     0\n",
            "     0     0     0     0     0     0     0     0     0     0     0     0\n",
            "     0     0     0     0     0     0     0     0     0     0     0     0\n",
            "     0     0     0     0] \n",
            "\n"
          ],
          "name": "stdout"
        }
      ]
    },
    {
      "cell_type": "markdown",
      "metadata": {
        "id": "Q600o0khUGGO"
      },
      "source": [
        "**Neural Machine Translation with\n",
        "Attention**"
      ]
    },
    {
      "cell_type": "markdown",
      "metadata": {
        "id": "cOL9znCpTn_W"
      },
      "source": [
        "![input_encoder.png](data:image/png;base64,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)\n",
        "\n",
        "\n",
        "Implementing the input_encoder_function"
      ]
    },
    {
      "cell_type": "code",
      "metadata": {
        "id": "GHmTifUUTFiv"
      },
      "source": [
        "def input_encoder_fn(input_vocab_size, d_model, n_encoder_layers):\n",
        "  \"\"\"Args:\n",
        "        input_vocab_size: int: vocab size of the input\n",
        "        d_model: int:  depth of embedding (n_units in the LSTM cell)\n",
        "        n_encoder_layers: int: number of LSTM layers in the encoder\n",
        "    Returns:\n",
        "        tl.Serial: The input encoder\n",
        "  \"\"\" \n",
        "  input_encoder = tl.Serial(\n",
        "      tl.Embedding(input_vocab_size, d_model),\n",
        "      [tl.LSTM(d_model) for _ in range(n_encoder_layers)]\n",
        "  )\n",
        "  return input_encoder"
      ],
      "execution_count": 12,
      "outputs": []
    },
    {
      "cell_type": "markdown",
      "metadata": {
        "id": "fCTpkRIyV82k"
      },
      "source": [
        "Pre-attention decoder\n",
        "![pre_attention_decoder.png](data:image/png;base64,iVBORw0KGgoAAAANSUhEUgAAAPcAAAFbCAYAAAAJJRhyAAAAAXNSR0IArs4c6QAAAVlpVFh0WE1MOmNvbS5hZG9iZS54bXAAAAAAADx4OnhtcG1ldGEgeG1sbnM6eD0iYWRvYmU6bnM6bWV0YS8iIHg6eG1wdGs9IlhNUCBDb3JlIDUuNC4wIj4KICAgPHJkZjpSREYgeG1sbnM6cmRmPSJodHRwOi8vd3d3LnczLm9yZy8xOTk5LzAyLzIyLXJkZi1zeW50YXgtbnMjIj4KICAgICAgPHJkZjpEZXNjcmlwdGlvbiByZGY6YWJvdXQ9IiIKICAgICAgICAgICAgeG1sbnM6dGlmZj0iaHR0cDovL25zLmFkb2JlLmNvbS90aWZmLzEuMC8iPgogICAgICAgICA8dGlmZjpPcmllbnRhdGlvbj4xPC90aWZmOk9yaWVudGF0aW9uPgogICAgICA8L3JkZjpEZXNjcmlwdGlvbj4KICAgPC9yZGY6UkRGPgo8L3g6eG1wbWV0YT4KTMInWQAAQABJREFUeAHtXQd8FMX3f5AAkUCA0CEU6UVQQUDAQlHp0qSJFEFE4Cf8ARFQkK6ACoIUKQpSpUsT6VKkg/Tee00IIaEl7H++L+65Oe6SS3L93vAJtzs7M+/N9+133pvZlkJTiSQJAoKA1yGQ0ut6JB0SBAQBRkDILSeCIOClCAi5vdSw0i1BQMgt54Ag4KUICLm91LDSLUFAyC3ngCDgpQgIub3UsO7arYiICHrvvfcIv5Ici4CQ27H4SutmCHz99de0bNkywq8kxyKQQm5icSzA0vp/CMBbZ82alR49ekRp0qShW7duUfr06f8rIFt2RUA8t13hlMbiQwDeWr8hEr/iveNDK/nHxHMnH0NpwQYEjF5bLy7eW0fCMb/iuR2Dq7RqhoDRa+uHxHvrSDjmVzy3Y3CVVg0IwGtnzpyZ/Pz8KG3atBQaGsr7UVFRFB0dTXfu3JG5twEve22K57YXktKOVQQmT57MxB4+fDgTGQVv375N33zzDefjuCT7IyCe2/6YSosJIJAiRQrTwloCReVwMhAQz50M8KSqIODOCAi53dk6opsgkAwEhNzJAE+qCgLujICQ252tI7oJAslAQMidDPCkatIQ0O9SS1ptqWUrAkJuW5GScoKAhyEg5PYwg1lTd/bs2TR+/Hhrh5Od7+j2jQqeO3eO8IdUs2ZN2rZtm/GwTdt3796lffv2cdnp06fTsGHDbKrnTYX8vakzvtyXgIAAevjwocMgcHT7RsU3b95MV65coS+++IJGjRpFISEhxsM2beOut1atWtHhw4fprbfesqmOtxUSz+3BFp03bx7hhhC8/GDp0qUEAiKdP3+eqlatyse6detGkZGRnA9PVrBgQc7v3bs3Dwa4/XPo0KGcFxQUROvWreOy+M9a+1u2bKHs2bNznYkTJ9LTp0/5Mc6PPvqIBg0aRG+88QbFxMSY2sHGzJkzuTz0HThwID1+/JiP6zKQP23aNNq4cSO1bduWvvzySzp48CCtXbuWrl+/Tp07d6a9e/dyHczZ+/Tpw/uXL1+mRo0acdvly5enf/75h5D3zjvv0NGjR1nuiRMnTHUPHTpkwgD63rt3j3Vv37499e3bl9sBRsAQaefOnaa+QiYeV/WYpICS5IEIqJNeUx5NO3bsmKa8k5YtWzZt3LhxWnh4uFagQAFt/fr12pMnTzQVjmodOnTQ1LPT+PiEtmHDBk2FrFrlypU1FWpr6pZQrV27dlxPkYnLKDJo1tpHGcg6ffq0pu4R53YWLFigPXjwQCtRooSmiKmdPXs2DqKKZKwrdFADjVauXDlt165d2tatW7ktFYJrZ86cYdlHjhzRlLfWevbsqamBR6tTp462fft2TQ0i3A80fPXqVa4H+TiuBgWWt3r1au3111/X1MCiKe/POISFhWmzZs3SRo4cacIAclWUo/Xq1Ut7//33NXWPO+vev39/7hPysY0+AcsDBw4wljVq1NDUIMqyPOG/eMPyh2EnPWaQ8jVFMQ8dMGAAFStWjLsOT4ewXJ34dP/+fX6NkTrZ+d5tRXRSJzRVqVKF3nzzTUqZMiUtX76cy9WtW5fmzp1L8NqlSpVijwhvibDWUvvwpuqEp1OnTrHcjBkzEsJotIMo4IcffqAMGTLEMUfx4sVpxYoV7AVPnjxJu3fvZg85f/586tevH+XPn5/LX7p0ievmyJGDowE8aBIYGMh9QPvQB+3Du7dp04YyZcpEmE8j9FYEpjVr1hD0QcqZMyflzp2b+4V99FkNKFS/fn1SAxuyqGvXrlS2bFlSAyLrrgYUlv/hhx9S8+bNSRGc8ubNS/Dwn3/+Of34449UqFAhciQvAjIVYd3s8V+85IaAgKDEz3fsoZi0YR0B5TVIeThSntJUCOQEIUEIJJRBCFmyZEn67rvveB+kQ/iLhGepEa5jIEiXLh3n4T88qaU8MxPWUvsgCUgFIqvIgE98PPGlJ4To5mnTpk1URQ0sEyZMoIoVKzK5oB+SPpXANojs7+/PxMa+MYGoL7/8Mv3111/0888/81wcOjRp0oSfMENYjfAcc3QktA/SGpPy4kxWYx76DiyQdN2hAxKwxHRHeW4enCDr119/pdYt3+Pj9v7v4b3Ldm1S5tx2hdM5jYGgtWrVohkzZjDJQEgQB0R57rnnWIlXX32VT3YQYOHChfTiiy+SCm/p5s2bfOLXq1ePCYx5Kt5phoQnteBhUdZa+/CMGBCwit2wYUPasWMHqTCc61v7Dyvf8HydOnXi+e61a9d4kHnttdc4goCOeOVScHAwwXsjmc9t0WfMiVUYzoMKBi2UwbwaHhX6Qn89Yc6PdnXCIh99xRz/xo0bXAyevnr16ibM9Lr6LwaDwoULMx4jRowgFdqb9NPLuPOvkNudrROPbi1atOBQM1WqVOzxEOrCA2FlGYtcCEtBiI4dO/JlIITSuByEkBfeF95W93Qoj7J4vxkIVKRIEbLWPkiN0B5yUQfEbdasWTyaEntqEAPlUR+EwsAAbw590BaiBXhdkAmRAaYZe/bsYV1RD+mVV17haAWLhPCueDYc/cuVKxe3DQ+LxbNffvmFoxEQf9KkSdwGBj60rWOANhHmDx48mNvWvTXvqP8w0EAPyNIjHkRA7777rl7E7X/jfeQTcwsJy93Uhn5pWTF4F3hrY3iLA/DmmIPjJDUm5COcNs6L4eUQ0mNwMOajnrX2kY9Bwry8UZZxG6vj8Pi6PvC6ejiMFWt9fq3XQfnUqVPru/H+QheURViPvoG4ICvagI7mxMXLI9RiGQ9m+sARnwDoh/IYELmtmKj4iif5GMJye865hdxJNoWLK/5Lbhdr4ZviPYTcEpb75ukpvfYBBBJcLfcBDDyziw7yHs4AI4V/IGnRsTfWOEOer8oQz+2rlpd+ez0CQm6vN7F00FcREHL7quWl316PgJDb600sHfRVBITcvmp56bfXIyDk9noTSwd9FQEht69aXvrt9QgIub3exNJBX0VAyO2rlpd+ez0CQm6vN7F00FcREHL7quWl316PgJDb600sHfRVBOTBETe1/I0bN2nHrr107PgJunbthkNfW+xsCPDeso6duztbrMPk4Vn6nDmzU/FiRenV8mXV21KzOUxWYhqW57kTg5aTys5bsIS2bd/F7xvD64TwphH99UlOUkHEJAIBvMgBL6bEe+3wKqtKFctTsyYNE9FCbFF5WUOiIfOcCuHh92ji5F/Uq4dyEd5xJoT2HNvpmoLoeLPs9etXqdPH7dSbaoL0Qwn+2pvcMudOEHLnFQCxixcvSU2bNhViOw92u0rCgAz7wY6wpyuTkNuV6BtkIxSHx3777bcNubLpqQjAjrAn7OqqJOR2FfIGuVg8wxwbobgk70EA9oRdYV9XJCG3K1A3k4lVcbysX+bYZsB4+C7sCbvCvq5IQm5XoG4mE5e7sCouyfsQgF1hX1ckIbcrUDeTievYuNwlyfsQgF1hX1ckIbcrUDeTiY8HSEhuBoqX7MKusK8rkpDbFaiLTEHACQgIuZ0AsogQBFyBgJDbFaiLTEHACQgIuZ0AsogQBFyBgJDbFaiLTEHACQgIuZ0AsogQBFyBgJDbFaiLTEHACQgIuZ0AsogQBFyBgJDbFaiLTEHACQgIuZ0AsogQBFyBgJDbFaiLTEHACQgIuZ0AsogQBFyBgJDbFaiLTEHACQgIuZ0AsogQBFyBgJDbFaiLTEHACQjIRwmcALIvinjy5AnhNb9+fn4UGBjoixC4vM/iuV1uAs9T4PHjx9SyZUuKiIiwqPzmzZupevXqVLduXapVqxZ99tln6j3e1/mlBc2bN6c33njjmb/69evT6dOnOX/EiBH09OnTOG3PnDmTj505cyZOvuxYR0A8t3Vs5EgSEACJ+/XrR2PGjOH3wkVGRtL48eOpZ8+eNGPGDBo5ciR78/Pnz9OQIUNo1KhRlC5dujiSNm7cSB06dKDg4GDOx5tMVq5cydvR0dFxysqOdQTEc1vHRo4kAYFTp05Rnjx5qHTp0pQ6dWrKlCkTde7cmV555RVCqJ43b17KnTs3FShQgNKkSUP58uXjPOSnTBl7OkZFRdH+/ftN0uHR8bkeJE3TTPmyET8CQu748ZGjiUSgcOHCdOnSJerUqROtW7eOLly4QEFBQdS9e3fCB/P0FBMTw5vm4XfWrFk5jF+8eLEpNF+/fj23V7BgQb26/NqAgJDbBpCkiO0I5MiRg6ZPn64+p1OcBg8eTK1ataJq1arRmjVrbG4EXwHFABEWFsbzdMzh8f5vSYlDQObcicNLSieAABbZQkJC2FN369aNQkNDmdhDhw6lEiVK8LH4msCcOmPGjPT666/ToUOH1Cd5crDnx6/u7eOrL8f+Q0A8939YyFYiEdDnyMZqWCDDyjYSjmfJkoWwQp4/f34KDw83FrW6jctn8PZz5syhuXPnUrNmzXj+jlV6SbYjIJ7bdqykpAEBeFEsnmE+rXtUeNw6depQjx492EuXL1/eFFbfvHlTfZQ+u6EF65tor2jRouobWzfo+PHj1KVLF5JVcut4WTsi5LaGjOTHiwBett+1a9c4ZbBo1qBBAw7Je/fubTqWNm1aQlgOL64nf/9nTz09D4ts6dOnp5o1a9LFixe5HsiN1Xe9jN6O/FpHIIW6tGD12sLDsJMUEBRivbYcsQsCHTt3p9GjR9ulLXdpBJezcI0bZIRHT5Eihbuo5nQ9MOhNmpCwfR/eu0wBmYrYTb9nh0+7NS0N+TIC8Nb4k+Q6BGRBzXXYi2RBwKEICLkdCq80Lgi4DgEht+uwF8mCgEMREHI7FF5pXBBwHQJCbtdhL5IFAYciIOR2KLzSuCDgOgSE3K7DXiQLAg5FQMjtUHilcUHAdQgIuV2HvUgWBByKgJDbofBK44KA6xAQcrsOe5EsCDgUASG3Q+GVxgUB1yEg5HYd9iJZEHAoAkJuh8IrjQsCrkNAyO067EWyIOBQBITcDoXXtsbxyl98ekeS9yEAuxpf6ezMHgq5nYm2FVk5c2Y3vXTfShHJ9lAE8DEF2NcVScjtCtTNZBYvVpSOHDliliu73oAA7Ar7uiIJuV2BupnMV8uXpe3bt0toboaLp+8iJIddYV9XJCG3K1A3k5k9ezaqVLE8LV++3OyI7HoyArAn7Ar7uiIJuV2BugWZzZo0VJ+5vUpr1661cFSyPA0B2BH2hF1dlYTcrkLegtxOH7ejY8eO0Pz58yVEt4CPJ2QhFIf9YEfY05VJ3lvuSvStyJ63YAlt276LP35XsmRJypUrF+EjAJLcEwEQGqviWDzDHBuheFI8tr3fWy7kds/zRX1K5ybt2LWXjh0/Qdeu3eDP8ripqj6vFq5j43IXVsWxeJbUObaQ2+dPJc8GAF8B/bBdR5r2yyT+ZJBn98a+2tub3DLntq99pLUEEPj6m29p2Yo/CL+SHIuAhOWOxVdaNyAAr501Rz569OgRpUmThm5dvyDe24CPeG4DGLLpWQjAW+vfncSveG/H2k88t2Pxldb/RSDWa+dVXvuxCRPx3iYoeEM8d1w8ZM9DEIj12nGVFe8dFw9774nntjei0t4zCERE3KfM2ULIz8+PP+sbGhpKmYODKepBFEVHx9Cdm5fV3DvdM/V8LUM8t69Z3Av6O3nqL0zs4V8PVkS+xD26rX6/GTaY8ydP+cULeul+XRDP7X428XqNUvgHkhYd6fX9TGwHxXMnFjEpLwj4KAL+Ptpv7+q2X1qP6o9+OcyjlI6J8ih1oazcoeZxJhOFBQHbEBBy24aTW5c6d+4c4S++9Ouvv9KOHTviK+LUY9Bn27ZtSZY5e/ZsGj9+/DP1jx8/TlWrViVcVw8KCqKwsLBnyvhKhpDbCyy9efNmmjt3boI9efr0aYJlnFkgderUSRaHJ7EePnz4TH3k41IbbpDZsmULZciQ4ZkyvpIh5PZwS/+1aQu1bduWvvzySzp48CDdvn2bateuTSlSpKDy5cvT6dOnTT1EHtLvv/9OLVq0YHKcP3+ePR2OdevWjSIjI/ne7/bt21Pfvn25nYIFCxLKmaeoqCiug7o1a9Y0ycJbSD7++GNuN3v27LRy5UpTueHDh/MtqKlSpaJp06YRnldHfbzgQE8gJeohf+LEiaQPSvPmzeO89957j5YuXWp6ZfC+ffsIOpYtW5YmT55M+fLlo5iYGEJ56Ah9unbtSo0aNeL6P/30E+sQHR1NQ4cO5bzPP/+c8Hf27Fnuv9536LFr1y5dNc/6VYsbVtOD0BOaumQhf26MwZOH4dqoUaO0nj17ao8fP9aqVKmiTZkyhbcXLVqkhYSEaOoE16ZPn66pk1RTJNKyZcumXbt2TQsPD9cKFCigrV+/Xnvy5Ik2bNgwrUOHDpp6+YBWokQJrX///pryglqvXr1423iiKMJpTZs21b777juWtXr1am4LshYsWMAy1MCirVixQlOM0FatWqWpAYLz9+/fz2UgG3kqlOYyu3fv1tQAZaoL2ZUrV+ayiqDcl2PHjmmHDx/mMuPGjdPUSxK47oYNG7Tr169rderU0erVq6epQYrLow3okz59ek29TIH/oA/6rwYaLnvnzh1t2bJlJh2AUfPmzTVFfk1NZbhfjx/cdTgPmG9GkJO5LavlnjUWP6Otv78/5ciRg73blStX6OjRo9SyZUuCZ2zQoAENGjSI3xASGBjInhwNnDhxgutgfnr//n2enypy8g0liuj8iid4NTVgcFj74YcfkjrZacCAAVwGbcAj7tmzh95++21CXbQDr6dIw56vX79+7E3V+UlFihSht956i6BrtWrVSA1CXP7bb79lL4v24NE3bdrEeinS06lTp5BNGTNmJEw7smTJwvKLFSvG+YhUEJafPHmS6tevz1ECDgwZMoSjBGynTRt7FQFPoUF3NWCxx1YDAEcZc+bM4elMsLpbrm7duqQGRj6eO3du+u2336ho0aIckaCfwNPTkoTlnmYxC/rqYStO9nTp0jGJUAyhKRIWlpCaNGlCygvTZ599xsdwOygSCAgCIERWnpj0ubDeLkiJhDBZT3pdzG0xEEAuQmuQEQkERkLbCG1Tpow91fQ20RYGJT3hOAiM30yZMnGbeH3RRx99RAjD8QojvW3U0fuEhUQViejNcKiuIhLTvvkG5CovzoMhBiTorSf0BalSpUp05swZHniAVenSpdUAeF8v5jG/Qm6PMVX8ioKc+fPn50J79+7l30OHDrGHzJMnD8+lMadUoTefuCCi/l62V199leejIOnChQtNRIxPIsgNYkAmIgR41B49ejzj4TDAWCIbvGqfPn2YxHfv3iU1baAXX3yRCQzSYQ7fsGFDXuEHgWvVqkUzZszg8ogaJkyYwESuUKECz79VSM4DCRYWMeeOL2GAQd+xJoGoAwlRA7ZB/rFjxxIiGEQsWC+A/sDG05KE5Z5mMQv6wtN98MEH9M477zABKlasaCqFy186iXGC6gtZCJMRnmPBKmfOnFweHnDnzp18guveWm8IoasxoZ1Zs2axV9Pz1byXvSK8r/59LAwCxhVrHAOB8IeFMz3c/f7775ncIDguken5al5PAwcO5PJYCNTzIROLdsWLF+eQW+8D8jGFMCajPsjXdcAAgSkM2sF0AQm6qjk7YcBDPhIGxaCg9LztSf/JveWeZC1ruqo71BAG6+E0vDi8IU5UnWTWqiIfnhAhvTmB46ujH9PnzwiTzQcEvUx8v7geDU9qHABQHtenQUJL+RiszPt179499tzm5eOTrRb7eHDASjvqY1qCKw4YLBFxqIU27hPj4oQ71Ox9b7l47vis70HHdGJDZcwdMc+1NSFE1hefbK2jl4PcpAwKen3Mfy0lEMxSspavz8Et1bGWh3C7UKFC7PkRwXTs2NE0mCDiMM7lrbXhzvniud3ZOrbq5mH3ltvaLWeUu3TpEq9BYHAoU6aMdZHiua1jI0cciIATTjx7au9Oj3zmyZWZ8MfJw3BMyCayWp4QQnJcEPBQBITcHmo4UVsQSAgBIXdCCMlxQcBDERBye6jhRG1BICEEhNwJISTHBQEPRUDI7aGGE7UFgYQQEHInhJAcFwQ8FAEht4caTtQWBBJCQMidEEJyXBDwUASE3B5qOFFbEEgIAXlwJCGEXHT8TuRNOnh1L525dYyw/Tj6kYs0sb/Yqi3K0pBV3e3fsItaTO2fhjIHZqOCWYtT6VxledtFqsQRKw+OxIHDPXb+PLqYDlzeRc9ne4FyZMhPGdJmoVR+sW8JcQ8NRQsjAk9iHlF41G26Hn6ezt08TC+GlKeaJRoZi9i0be9HPoXcNsHunEIRj+7RvL1TKW2ajFQypJIQ2jmw21UKiH7k8jaKenSXmpX9iNKniX3FlS1C7E1umXPbgrqTyoDYwelC6KV8VYXYTsLc3mIQYcF+sCPs6cok5HYl+gbZCMXhsYvlKmfIlU1PRQB2hD1hV1clIberkDfIxYIZ5tgIxSV5DwKwJ+wK+7oiCbldgbqZTKyKY/FMFs3MgPHwXdgTdoV9XZGE3K5A3UwmLndhVVyS9yEAu8K+rkhCblegbiYTYRsud0nyPgRgVwnLvc+uNvcIN6hISG4zXB5VEHZ11Q1I4rk96lQRZQUB2xEQctuOlZQUBDwKASG3R5lLlBUEbEdAyG07VlJSEPAoBITcHmUuUVYQsB0BIbftWElJQcCjEBBye5S5RFlBwHYEhNy2YyUlBQGPQkDI7VHmEmUFAdsREHLbjpWUFAQ8CgEht0eZS5QVBGxHQMhtO1ZSUhDwKASE3B5lLlFWELAdASG37VhJSUHAoxAQcnuUuURZQcB2BITctmMlJQUBj0JAyO1R5rKvshfPXaSSOV545u/1F96ge+H3bBb2x5I/aPrE6TaXt1TwyqUrZE3uhj83UJfW/6MHDx5QtZerJ0o3S7J8JU8+J+QrlrbQT03TOHf6kumUKTgjPX0au4/MtGnTWqhhOevp06eUOk1qywftlBtxL4L8/fxp5MQR9Fza5+zUqnc3I57bu+2bYO+CswRT6TKlqFDRQlSkeGHTn38qf9q+eTvNmDyTJn4/kb37jEkzaNffu6hGhZpUvlAF+mfXP9w+iP3X2k00uPdgLjdqyCh6EPWAjz188JBGD/uB8z95vxOdPnHapNOhfw7R+3VaUrOazWnWlFmmfGwsW7CcPXn/7v1p7rS5lD4oPcU8jaE92/bQk8dP6Ma1GzRiwEguh+gDXv/sqbOmNlYt/ZPzenToSXN+mUPzZ8wnfTAzFfLyDSG3lxs4oe6F3g5lwhzef5gO7jvIfyePneJq8JYjvor1lFPmTWEy9ez4GQ38dgD17N+TsB15P5LL/r3xbypRuiQtXLuAiT5q6GgVCTylzq260KljJ2nF1uVU/rXyTObbN2/TqeOnqHmtFlTz3RrUZ3BvWrF4pUnVlWq776d9aejoIVS1RlXatmk7BQQEMDnnz1xA0dHRhEEDg82fS1fR/NXzqFrNajSw1yCWuX7VevpM6TZi3HCqWb8GDfvia9q0bjNphsjEJMyLNyQs92Lj2tq1j1t0jFO0yjtV6MfpYzmvYJGC1Prj1pTSLyXVblCLqioSVXyjIuV9Pi+N+3YcxcTEUPSTaPrgo5b0XsvGXOe7Sd9R+ybtqUHz+rRz605av28d5ciVg/Lmz0uYP2MguR9xn+o0qkOtO7bmOjN+/5VaN2jD23+t+YtGjB9Ob779Ju9je+HsRbxtDMkD0wXS0DHDKDhzJmqvPHvLeh8QBqQ/lqyiH6aOpkpVYj/yMFyRfNEcVT8FN+Ez/wm5fcbUljuKsHzl3ysoKMOzH6wDaUFAEFtPefPn4U0c0xM8NMiupzRm8+/qZd7SD/Hv7Vt3mOAlShU35adMGSvj8aPHdOLoSWrzSSzRUSBV6lSmcsaN3HlzU8ZMGThLD7kfPnxIhw8cpo+7dTAVDb8bThgIfC0JuX3N4hb6qxPL/BBIaySqccHNWBb170fEhufIT5Ei1kU+jXlKGDyWbFhM6dKnoxQpU9Dxw8cpj/LgCNUfKSLryc8/9lREXT9/PwJJ9eSX0k/fTPA3TZo0lDN3TtOcHxUwAOjThwQb8KIC/w3JXtQp6YrtCGDOffTgUcI8+9ihY6a/xJABi28/j/uZF7SwkDZx1EQ1l65J+QrkY0V2b99DAc8FqMW0MzznDrsTSm/VfstU5/Hjx7zohcLw0u/UeZsG9BxId8PuUuidMBr//QSbPS8GmgqVy9PIgd9y/TMnz1DvLn1i62u24+INJcVze4MVk9mHDxu3e6YFLFKZe/SUyvPqCYQ2JgwG9V5/l7NC8qnP1/75G4f6Y38ZQx+824oXuHAQ81/M4wsULsDzbb3Ou03qUapUqVhmq49b0d+btlHl4q9xew2aNaDHjx7xtvE/rKCbJ+jc/tP2fC0c9RGOI3ooUOj5ONML83reuJ9CzVWsjmcPw05SQFCIN/bbrfo0ZFV3alyuq1vplBRlsIL9SJEQ83c9NEc7T548oYjwCApMH6jC/DRxmsZ8OKUKu9MHpYuTjx1EFVhAMy6iPVPIQsa+nfuY1EVLFuWjs6bO5stnH3Zua6G047MW7R5L/WuNTlDQw3uXKSBTkQTL2Vog7vBray0pJwhYQAChN/7MEzwyvKellCFj7IKYpWPW6lgqa8y7evkqh+JD1KW00Nt3+Do75v2+loTcvmZxH+hv3cZ11aJdHtq/e7+6Jh5Da/esoVwhuXyg53G7KOSOi4fseQkCL5Z9kfDny0lWy33Z+tJ3r0ZAyO3V5pXO+TICQm5ftr703asREHJ7tXmlc76MgJDbl60vffdqBITcXm1e6ZwvIyDk9mXrS9+9GgEht1ebVzrnywgIuX3Z+tJ3r0ZAyO3V5pXO+TICQm5ftr703asREHJ7tXmlc76MgJDbl60vffdqBITcbmDe1P5p6EnMs28acQPVRIVkIgC7wr6uSEJuV6BuJjNzYDYKj7ptliu73oAA7Ar7uiIJuV2BupnMglmL0/Xw82a5susNCMCusK8rkpDbFaibySydqyydu3lYQnMzXDx9FyE57Ar7uiIJuV2BuplMhG0vhpSnI5e3mR2RXU9GAPaEXSUs92Qr2kH3miUaUdSju3T86m47tCZNuBoB2BH2hF1dlcRzuwp5C3Kblf2IQu9fpv0XNkqIbgEfT8hCKA77wY6wpyuTvLfclehbkf3n0cV04PIuej7bC5QjQ37KkDYLpfJzzeUUKypKtgEBEBqr4lg8wxwboXhSPLa931su5DYYyZ0270TepINX99KZW8cI24+j5Tq4O9nHqAuuY2NejVVxLJ4ldY4t5DaiKtsehUCU+o5Y+w6f0MTxYyhjxowepbszlLU3uWXO7QyriQxGYMzY8bTk9+U0ZOgIQcQJCEhY7gSQRQRRTEwMBWcNoXv37vHH/q5cPE05cmQXaAwIiOc2gCGbnoPAmLETFMGjWWF8O2zoMPHejraeeG5HIyztMwJZsuWhO6GhJjTwqd0zp45Q/nx5TXm+viGe29fPAA/s//gJk+jBw4dxNE+dOhUNE+8dBxN774jntjei0t4zCGTNnpcio6IoZYoUFK3m3lmyZKbIyEi6fz+SDh/YTUWL2u+b1M8I96AM8dweZCxRleinSVMp7O5d6vppZ7px7TxlDg6mXTs205jR31EmdTls4aIlApODEBDP7SBgpdn/EAgNDaPg4EyckTd/Ufp7y3rKkyfkvwKyxQiI55YTweMQ0IkNxf38/PiymMd1wgMVlptYPNBonqyyn7+Q21n2E3I7C2mRwwiI53beiSDkdh7WIkkhAHJjxVyS4xHwd7wIkZAoBPzSJqq4pxU+evSYp6mceH1johJfxwE1hNwOANXRTeIa8aNHjygwMJDSpHn2Oe+wsDDSNI3VCFaXnsxTQvXNy8u+ZyIgYbkH2Q2E/fbbbyldunSUOXNmCggIoIkTJ5qIjOPDhg1Tl52C+TjKfPjhhxQeHs69TKi+vaCIjo6mbdu2OXRVPD4Z+/btM/XZUp8wuDVr1syh+lmS6+w8IbezEU+GvP3799PYsWPp/PnzTOi9e/dS586d6cCBA9zqoEGD+PjBgwfp6dOndOXKFTp16hTVq1ePQIaE6idDtThVMYhUrlxZ3YF2P06+PXfik/HVV1/RiRMn4hUXERER73FvOCjk9gArXrp0iUaOHEm7du2il19+Wd0Akoe1LlOmDM2fP589+fXr1wnk3rhxI5UqVYpSqFs9c+XKRcuXL+cT/ciRIzwIWKs/Y8YMOnr0qM1ozJo1iwcO8wpPnjyh1q1bc3aPHj14kJk5cybrA50GDhxIjx8/5mnFRx99xDq/8cYbvD906FAu9/nnnxP+zp49y+1s2bKFsmfPzscQqWBKYi5D12P06NG0cuVKatGiBYHAhw4dooIFC3JdyMMjp3qCPtiHF1+zZg0PmFOnTuWykAcskTCYtmzZkrp3787HPv74Y3qo7pWHHn379jWVh33cKqkR0Gp6EHpC06Ij5c+ZGPxrDRVKa0uXLtUKFCiAybM2fPhw7eTJk7yN/T59+mh//vmnhnJIx44d04oUKaIpcv3bwn8/zZs319atW6edO3fOav0lS5bwsfTp02u//PKLduvWrf8asLBVp04dbffu3RaOaNqFCxe0bNmyaWqw4L+QkBBuT4XDWrly5TRFAu3BgwdaiRIltLZt22qKxNw/FWFod+7c0ZYtW8a6oH0VhXBbp0+f1kJDQzUVEWgLFiyII8OoxN27d7Vq1appixYtYpnAauvWrZoio9arVy/t/fff1xTptaZNm/Jx6DBu3DhuYtq0aRp0QBvK87MO+NVxh15qENVKly6t/fXXX5oaWDVgq6IibceOHWwrNXAlmS/MN2NnkrktntuthloiLIbBw2TIkIEwd1SkY+/Xu3dvKly4MHsLeIgcOXJwSI5yO3fu5EtM6Io6H+L0CPtoE89Q58+f32r9Bg0acF2E7pijZ82alRQBOJTXG0RoDy8KeYgmUBZza3Xy60X4VxGbX6OUO3duKl68OK1YsYLrTJo0iRRh2dOhINr74YcfSJGf5syZQ2oA4/WCunXrUpUqVVgfTDHUAMdRAuTi9UybN28mowyjcOCBY4hugFP9+vV5ioCFx65du5Ia5Hi6cPz4ce5jxYoVqUuXLtzE6tWrOepRgwFHDWgH5ZAUoUkNaBxBwIPv2bOH0L/ffvuNhgwZwroiDzi7SxJyu4sl/tUDxPr555/5hMdJ/sILL5jIACIcPnyYlPejbt260ZkzZ5gcOGFxUoFkILIxRamnsf755x9eYIuvvl4HRKpVqxb/KQ/J8vRjeJvKwoUL+YQG6VTkQAi5EfJbSii/adMmeumll+jixYsEImEubhyAsDaAMB3zcywU6km/CoDnvjNlysQDgfL2PPA1adJEL2ZxUQxtIgGLvHnjPi8OGWgbA8uUKVMYa6xdIOHqA67DQz9MLzAFKFq0KB8z/qfrVqlSJbZBvnz56LPPPuMBwJ3m8kJuo9XcYFv3rrNnz6YvvviCTzbMP0EgzPEwl1ShK2uK+SK8Z1BQEOEEa9++PXuqq1ev8nEMFJgrVqhQgYoVKxZvfXjiESNG8ECCOfAnn3zCc9YPPvjAhApO6jFjxhDmtSocpX79+jEBGjZsaCpj3ACB1FSA58+dOnXiue+1a9dMg5VeFqQqX748wXMiYUDANubE8NQgfs2aNQlyVPhrmoujLGRYShgI0Oa8efPoxo0bXATz6urVq1Pq1KkZL0RIGMAQoaA89ACWGFRRDmsYGKDMkz54YHFz/fr1fEUC83zgbU0f8zacsS/kdgbKiZSBkw8Ew8l48+ZNDm3VPJLatGlDtWvXVs9DZ+ETHyEoUrt27Xh//Pjx7B0RLurEQHiKRTd4pP/7v/+zWB+Xy+B5kOBhQYZ33303jiflg4b/QAR4N0sJsqFb48aNWR8sBiIPBAVpQFLjwhbamDBhAk9BUA5hLhLaQJ0333yTIxMcw2CBBTCjDJ1sXEn9h6kAvDtwwqVBTGFQfsCAATR48GAuptYWmLjQEQuQGLBAZmCFsuifWg/gtlDBeL8AoglchsRVCAxwKI9BCAMYBgd3SfLIp7tYQtfDhjvUEG4ilMUJaAxl9SZwHCc8TjrjSWk8Hl99vVxyfuHx4MXg7fWwW9cFEYge2uoyMC8HKbGyDeKXLFmSEPojJEdCn0AqfUBDnlEG9o3JKAOhMjwz1hGASUJJLdyxfsA3oQQdEEn5+/v/h3US71Cz9yOfcodaQtZzw+P6CW9NteQet9ZuYvIRKeAPCZGITmzsmxMbeQhpCxUqxN4Vc92OHTvGIbKlPhlloA1jMsqAl8afrcmoa0J1oAMW3twxied2N6vY4LndTWV76YN5PxYJEdriGr7HJvHcHms6xyqexBPDsUrZr/VmLVpT40b1qWmTxs80midXZsIfJy/H4ZnOOyBDFtQcAKo0aR0BhLGWVqCt15AjSUVAyJ1U5KRekhAAueV57iRBl+hKQu5EQyYVkoMAe+7oZ68dJ6dNqWsZASG3ZVwk10EI+PtLWO4gaJ9pVsj9DCSS4UgEZM7tSHTjti3kjouH7DkYASG3gwE2NC/kNoAhm45HQMjteIx1CUJuHQn5dQoCILesljsFahJyOwdnkfIvAv5yndtp54KQ22lQiyAgwF8ckUthTjkZhNxOgVmE6AjInFtHwvG/Qm7HYywSDAgIuQ1gOHhTHvl0MMBJbf7urft0ct8lunjyJmH7ySPLbxxJavuuqvfPttP8TPXEe0tdpYLd5aZK408Zs6ajvEWyUZEyeXjb7kKS0KA88pkE0BxdZevSQ3R8z0XKWywXZQvJTOmD01Gq1DIOOxr3pLb/5HE0RYTep5uX79DF41ep2Ct56bX6pRLdnL1f1iDkTrQJHFch8t5DWvXrTkqbPi0VLVtQCO04qB3WMoh+Yu8ZioqIolptKlBgUIDNsuxNbplz2wy94wuC2MHZMtELFYsKsR0Pt0MkIMKC/WBH2NOVScjtSvQNshGKw2MXeim/IVc2PRUB2BH2hF1dlYTcrkLeIBcLZphjIxSX5D0IwJ6wK+zriiTkdgXqZjKxKo7FM1k0MwPGw3dhT9gV9nVFEnK7AnUzmbjchVVxSd6HAOwK+7oiCbldgbqZTIRtuNwlyfsQgF0lLPc+u9rcI9ygIiG5zXB5VEHY1VU3IInn9qhTRZQVBGxHQMhtO1ZSUhDwKASE3B5lLlFWELAdASG37VhJSUHAoxAQcnuUuURZQcB2BITctmMlJQUBj0JAyO1R5hJlBQHbERBy246VlBQEPAoBIbdHmUuUFQRsR0DIbTtWUlIQ8CgEhNweZS5RVhCwHQEht+1YSUlBwKMQEHJ7lLlEWUHAdgSE3LZjJSUFAY9CQMjtUeYSZQUB2xEQctuOlU+VDL8XTnfD7ya5z0+ePFFf8/SODykkGQQXVxRyu9gA7ib+yLHD9HqNV6l0xWL0YqXiVOb1UrRj93ZW89yFs9SkdQN6+vTpM2ov+H0e/ThpDOevXv+neotrXpo2cyrdvx9BaBPp0aNHVLNhdcpXMmecv179e9D1G9e5jLEdzrDwX3x6GOVZqOpTWUJunzJ3/J0F+br17kL/+7grHd11ig7vOEH/17kHNWvbiG7eusGVIyIi+HNA5i1VLFeJar1dm7NX/LmUenXrQx3afkJ3wu5wm5qm8TF4859+mErb1u6mTau20dqlf9HtO7fo016f8KBhbMdchnHfmh7m8ox1fG1byO1rFo+nv9duXKVTZ05S1TeqU2BgOkqfPog+aNZG/bWmqAdRXDMyKpLmLZrDnvfVamXo9NlTnH/56mU6c+4Mbdm2iZb98TtNmDqOFi2dT+27tOE2h4wcwOTFAJIvT37KnSuE8ud9nooUKsqDCTz3g4cPSG8HjWJA6flFNypRvjBNnTGZhn47iC5dvmhVj2s3rj0jjwv76H9Cbh81vKVuhyjCFS9SgqrUeY2mz/6ZDh89RPcj79Owr0YwEVHn4uULtFkR+M/F66h2jbrUd2AvJu11RazzKmwvVLAIt9Gn+xdUrmwF+qR9F8obko8a1G1MKVOmpDRp0tC9iHuEOTkGjLC7YbRqzUp6qfTL9FzAcyo8j20Hg0Drj9+nlH5+tGjWUlVmBU2Z/hOFhYex6pb0yJQh0zPyLPXTV/Lk63K+Ymkb+unvn4pm/zyf5i2eQ2N/+oHuhN7mWm1btqf+vQfyNjz61wNGUsYMGandBx3o3ea1KULNq5FA3pzZc1LhQkWo7EvlmNQpKAUFpg2kUiVK0+PHj8nfz5/DfK5g+O/3OSu4vt7OpSsXCVHCkC+/poCAAJo55Teq0aCaqYYlPR49fkQVyr5qkmcq7KMb4rl91PCWuo2wOHWqVNT5o09p35ZDdHD7cZ4fw4uv3bCaq+TKkUuF6+l5+0n0E0vNsCfXV8r1X+Oc+9dJc3g+f2DbMZ57V3vzLZqrQn29DBpF1ICQPXXq1CwjJjqaowZdoDU9zOXp5X3xV8jti1a30uc161cpT1zLdAkrQ1AGtUhWh95v8gFdvhL71Qx4XnjjxCR9MEAdhNvBmYJ5Pg/vj7n3e/Wb0rnzZ+ip9t8qfEjuPHTh0nnS1D8kP3/19Q4V3uspPj2M8vTyvvgr5PZFq1vpc4VXKtHZ82dp2qyf6eHDh0zEnXt20JwFs6hEsZJWasWfjctmWCwLuxtqtSDm3ylT+sUZNPKG5OWFuHUb1rAeP0z4Po7nttaYLfKs1fW2fCG3t1k0Gf3JkT0Hz22HjhyoPkqoVrLL5KembRrSkH7fUMXylbllS17RT821U6T8z5tj7q2nILXijrlzs7aNKeZpDC+o6cf03/z5nlfX0replfJLpnayZc2uFtKW0cfd2rEef+/YwsXh7ZGs6WEujwv76H8p1DwnNu6xAMDDsJMUEBRi4Yhk2ROBib2XUp12Ve3ZZLLagicNVden/dRKdVD6DKZ5b1IbBaljomMS1Q7ukAOh36ryDteLUCvsFaqXpe3r9hCmC/GlpMiLr73kHlv5y0bqNKJ+gs08vHeZAjIVSbCcrQVktdxWpHyoXCq1qJY9Ww679dhPhdx+qf0S1R506DekL18zb1C3EQ37djDPzdOlS/ibakmRlyjlPKSwkNtDDOVraqZ9Li3fvbb577/o8LFD9MVn/alG9Vqmy2W+hkdS+ivkTgpqUscpCGQOzkwN6zV2iixvFPLfyoeH9+7evQj6a9MWOnfuPPfEfD+p3TNvZ+GiJZTCP5D27N2X1CalniDgFAS8htyhoaFUtXpNWvnHnwyc+X5S0TRvJ2vWLPR+i6Z8F1RS25R6goAzELB7WI6bFD7v049eKVuGQIzVa9ZR0aJFqP+XfSg4OBNt2ryFJk/5hd5+qzrNnDWHRo8aqW5qyEQDBg2l/fsPUu7cuah/vz5U7pWyFvu/Zu16GjBwKEVFRVGFCuWo66ed1eJPNho4eBiXHzJsOOXMmYOWr/jDtF+sWFF6q3pV+m3eAhozdgLFxMRQ40YN6P+6deEyqBuQJoCwiLNo8e9UpEhh+mbYIPXwRGCcdtFO2rTPUVBQEPn7xy4QnT59hvp88RXXy5YtK40bO4qavNeIr81aazd//v9uxrDYSckUBOyAgN3JjStr69ZvoLE/TlDXItPRc889R6v+XEN79/5DG9b9Qbdu3aY5c+fzH/QPCwujho2b09mz55gUCxYuZmKeOLqfSWbs4z/7D1CNWu8SSPR+i2aqjXnc9trVK2j3nr1c9ObNW+ppoltx9jHIzJr9G7Vq055Kl3qB8uQJUYTsr+66usIkXrZ8JR09epzbLVyoEA8CkZGRNO7HUc+0c/duSvpp0lRq364NXb9+gwoXK81y27b5gP5YtZqaNm9Fc2fHUL26tclau78vnicLQ0bDyrZDEHBIWI5bAwsUeJ4unD1BF8+doMqVKtKJkyfp9u07pk4M/OpLuhd2g8LD7zGxvx46iGbN+JmWLPqNy6xdt4F27NzFYTZC7b+3bVfe0p9QbvHCudTn855UtszL/DACPPfKZYu53pRJ46lTxw5x9t+tV4e+/W40k3fh/Nk0Y/pUjgzmL1ikXiYQyQ8zQN/zZ47R6lVLqUSJYtxW7ly54rTTtEncxZ2tf2/jcosWzKFpP0+iwwf2cL8nTJzC90nrOJi3G8+tBdye/CcI2AMBu3tuKIWb9xs3qk+ZMsXeTfT2W9WYnOcvXDDp3KBBPfbseFII6Yt+A/hPL4DwfuCgYRzWIw+E26RuRcQggbJ6ghdHwo0XSKiHZNxHGA6d4NWLFH+Rj+M/vS62MY3A44j6k0uIOFKkSBGnHZQzptOnz/JuwYIF+BeRSkBAGnWf9Hn1bHKsHtbaNbYj24KAIxBwCLnhsY4fP8lzW9zldOnyZSZyrpw56fLlK9wPnXy6F4PHbdG8Cd25E8rhctYsWejtt6vToIH9uB3cbjh7zm/064zZ7N3r1K5JH3/yPw6FjcCAoMZk3A8JyU071HVT3AiBgQahd9q0aY3FrW4b29EL5c2bhzcfPHigZ/Ev2vRX/ZYkCLgSAYeE5egQFrQGDfmavv7mW/r5l1/VIldOXugy76y+cIZFtk2bt9Lgod9Q5der86WmUi+UpArly1Gliq8StsPuxr6wDwMC5vHTf53FtyZiAImJiX2iCOH8iROn4uxfvnyV58AYWObNX6iigbX0UplXqVmL1jxwQCedoLqX1/U0b1fPx2/p0i/wbv2GTQlrBZ26dOO5e5tWLdVaQwAfs9YuH5T/BAEHIuAQz63rO2TocN5E+Iu5Llaj9aRvY+V49aplvFBWp14jPvzNsMFkPr/FAaxwDxr8NTV6rwWH1M2bNeHFL0QG2bJm5dAd8+jy5V6h1q3ej7P/Zd/ePOfv2asvy4BOa1YtN5EQK+NIGCjwcgE9Zc4cHKedggWf50MI2V8oWYKjCCwIYiEN6X9dPqEe3T/lbfxnrV1TAdkQBByEgN0fHMGjghUqvqkIUZxmz/yFF8wwF8ViWHwJc927d8N53pshQ5DVoiiHRTDM50Ew84Q5NwiqyzPfx00p0BHXqy3VN29P3zdvR8/HLy7LRUTc58ELl/sSm9ztwZHE6i/l40fAax4cQVh7X81lr1y5yivG+qJa/N0nDq+NC1zWyuPNHMHBsW/nsFTGfG5svh8UlF5dp459k4il+tbyzNsxlsMc29a5u7GebAsCjkQgfneaBMkgAW7kAIHgQSUJAoKAaxCwO7kRDteq+Y5reiNSBQFBwISAw1bLTRJkI0EEUqXxpyeP5dM7CQLlgQVgV9jXFcltyY17tvH01b5/9jsFF2fLM3YqY9Z0FBF635gl216CAOwK+7oiuS259dVuS9+lcgRQzpZn7EPeItno5uX/bs01HpNtz0YAdoV9XZHcity4Rl22XGVq0bIt4WYUY9q5azfVfbcxH+/Y6VNejdePb9i4id5Q79pC3W7de9GFCxf5EC5P4QERRAD4GzFylOn2VBRIijw81day1Yd8A0119W2sg4diP3Kn65KU3yJl8tDF41clNE8KeG5cByE57Ar7uiLZ/Tp3UjuBJ6r0m1jKvPySKRzfvXMLf3Gi1Ivl+BbWmjXe4bvB8KDHgX07aO++f6hKtZp8DHey4RFTPLKJY7XqNOAXOODe9qioB3x/O57mwq2uuMMtKfL+XL2WmjT7wNRN6If7x5Obti49pB6keUgvVCya3KakvpsgcHj7CQrKFECv1S9lk0b2fkGi23huPPmFm12OHtpHe3f/TV/1j72TDKjMmj2XwZn/2yyaM2sa9frs//hJsuMnTirvG/s02NbN62nVyt/V3WFd1dsxg+iIeoQTb2b5vFd3vgNu819rqP67dfm22Bs3bvLTZkmRp1tJf6rNHsRGmzgBoiKi6PT+87oI+fVgBGBH2NNWYjuiq25BbtwxtnXrNn72O0eO7NzPhg3eNfUX4TUSPHGqgAzq8c0feB/3mONaOh4IeT5/fr7j7Ptvv6FdOzbzd6FRCM9n4040vEs7S5bM/GTYRXW7alLlsWD1n/5Um75vj99abSpQ6M0wwogvq+f2QNT5bcBusB/sCHu6Mrlmjd6sx7jxpXDhQurLFLHfgMZhvDzBPO3Y9hffz33h4iV+yUP+fPn4wQ/ckooBAp4YD4acOnWGateKvdaO7zjrSb/LLLN680tS5GEA0efz+lNtetv2+A0MCqD3Pn2TEKJvnL+d8hbLRdlCMlP64HSUKrVbmMoe3fS6NkBorIpj8Qxz7GKv5KXabcu5vJ9uccbAs1au9Cq/qgiLZW+8Xpk+7dbTBE6Nd96iCRMn8+uZ8EBJj896M/nxthY8vIFjWDir8uYb1LrtR/zChE6fdOAHPnp81ofvV8d96yj3+muVKV++vEmWZ1LKgRsI5V6o9Dyd3HeJTh88R3dv3acnj+Q6uAMhT1bTuI6Ny11YFS/f9U2XXfp6phMqtLWaHoSe0LToSKf8PYwM1T5o2RxfP+E/RWL+3bNrq/b0yX3txzHfm46hzIpli1gv1Ovw0YemY+r+dO3ksQN8TM3fNbXwZjqmHi/VLp0/aaqXFHkL5s3i9vbv2+EUXJyFv7PkhN2+oqmn+bTIe7cFPzNuMd+ssjHxB9xmtVwfdcLC7qqHSFKZHpXU8/GLp6/wRBjuW8c3m40J72bDNXE8oqlfs8ZxPMiC1zshOrD0JFhS5Rlly7btCOCR2/ETJtGAr76gvr0/s72iD5S092q525HbB2zos128odZUcuUpxIMw3iAbeuuyPFxkOBvsTW63WC039E82vRiBIcNGmF7YgYhqjHpDriTHISCe23HYSssGBC5cvEjPFyzBz/jr2ZmDg+n2zUv6rs//iuf2+VPAMwEYNmwkv5DDqP0Ddfly/MRJxizZtiMC4rntCKY0ZRmBkydPUYlSZdV9COn5iy14wy2+2PL0qaYWTtPSreuxzwJYru07ueK5fcfWXtPTueozThkzZqAfRo2gPTu38melblw9z5+CwtWKnyZN9Zq+ulNHxHO7kzV8QBe8Xrria1VJ3W/AvQ0NDWOy+0DXE+yieO4EIZIC7owAVsmN79ZLytti3bl/7qSbXApzJ2v4gC7RZuT2gS67rItCbpdB75uCzT23b6LgnF4LuZ2Ds0j5FwGQW76j5pzTQcjtHJxFioHcxjm3AOM4BBJ85BMreJIEAXsh8CD8KqWgpyTnlb0Qtd5OvOQOyFTEek05IggkAQG/QPVNtTRpSc6tJICXyCoSlicSMCmePARkQS15+CWmtpA7MWhJ2WQjIORONoQ2NyDkthkqKWgPBITc9kDRtjaE3LbhJKXshICQ205A2tBMvPeW21BfiggCgoCbIiCe200NI2oJAslFQMidXAQ9tP7du3dp3759DtXemozo6Gjatm0bv7zSmgLHjh2jkSNHWjss+TYgIOS2ASRvLHLnzh1q1apVnNce2buf1mSol/RS5cqV1Zts4/9sMcpJSjoCQu6kY+exNS+rzym988476sMOR2nmzJn8yui+ffvy65/xVtIFCxZw386fP08tW7ak1q1b0+jRo+nWrVvUtGlT9WrpIN7v3bs3RUZG8gAxdepUrp89e3bauHEjmcvQwcKXWtAeUo8ePfhNqEuWLOG6eP30hAkTOE8vj1948ZIlS9K5c+dY127dunH5mjVr0unTp7no2rVrqWvXrtSoUSM+9tNPP7Fe165d476i7dq1a9PVq1eNTXv3duJfdS41vAGBzZs3qw82FNDCwsK0adOmac2bN9dUuKydOXNGy5YtmxYaGqqdPHmSP8Awbtw4Tb2WWKtSpYo2duxYrjN06FBTOdSvV6+epsJw7cSJE1wHv0YZRswuXLjAddXgom3dulULCQnR1ECi3bx5UytXrpw2Z84cDccgF7+KgdqWLVs09V56TQ0u2nfffaepT0hpq1ev5j6o9w8IiJEAAAPESURBVNlrakDS1GuctCNHjvAf6ihic7+gH5IaOLRPP/2Ut33hP4xuknwQgVOnTmmvv/66pi5Naeo7a9rff/+tLV68WOvXr5+JtCB36dKlucylS5eYhCASEsivDwIYGL744gttxYoV2qpVqzh/6dKlmlGGEeIHDx5oRYoU0cLDwzXlbbXp06ebDv/xxx88iBw/fpxJDZLOnTuXj6swnsk8ZcoUbfny5ZyP4xiQZs2axaRHQQwCderU0bZv364NHz6cST9x4kTtwIEDGmT7SpKwXJ0dvpjUCU6KXNz1H374gRo2bEiPHj2iGjVqWIQD8+PUqVObvuaCbfwhBQYG8ttV0CbCbkUkKlq0KIfFugxLjeKa9/Xr1ymT+jCjMRUuXJhDa+XR6ccffySE4SrCML3BBR90xKJcunTpaP78+er9bBmN1bkuXsaIp8+6d+/Oi3f4Ws3bb79N7du3Z73iVPDSHSG3lxo2oW6BWCAIflXIS7NnzyblgfmjiZbq5ldfOEXSV9gnT55M+LoqEsiNeXjdunWpevXqNGjQIG5Xl4HPPFlKkN+gQQPCfB3b+FNenKpVq8b1MSf/3//+RyrkJ8zv8RlmEBq6oF6xYsV43p4qVapnmodMDDa1atUytaUiC9q/f/8zc/pnKntLhq+EKNLPuAggzFbnMM9rf//9d1MI3LhxYw6LEWojNNZDd9Q+ePAgh9yo16RJE9N8F/N2zJWRj79Ro0ZxaGyUYZSOaQDKo22E+WrV3lS3Xbt2mvL+PNdGSI2kFvJY7vr161kHXQ5+N2zYwGUwT8ccXU/Qf/fu3dqaNWtMbaM8ph6+kuQONWVxX03wvPCG+HAivmMOb5chQwb2dPCi+vfMgQ9C9kWLFrF3hpc+dOgQe3r8og0kNQ/nOvDkejLK0PPwq3t1XQbqKtKpDzlmNhazuI02MU2AHsaPPlosrDIRkqN/0Aue31eSkNtXLJ3MfoJ4HTp0ILWQRV26dKEBAwbwNkJxSe6JgJDbPe3itlrh2jiuFRcsWJCef/55t9VTFCMScstZ4FQEcHOJuiTFK+pOFeyDwmS13AeN7souY64tL0h0jgWE3M7BWaT8i4CQ23mngpDbeViLJIWAkNt5p4GQ23lYiyQht1PPASG3U+EWYeK5nXcOCLmdh7VIUgiA3LbceCJgJR8BIXfyMZQWEoGAeO5EgJXMokLuZAIo1ROHgJA7cXglp7SQOznoSd1EIyDkTjRkSa4g5E4ydFIxKQjggRS5iSUpyCW+jpA78ZhJjWQgIJ47GeAlsur/A40q0iX94O0aAAAAAElFTkSuQmCC)"
      ]
    },
    {
      "cell_type": "code",
      "metadata": {
        "id": "kR43xge1Vuzs"
      },
      "source": [
        "def pre_attention_decoder_fn(mode, target_vocab_size, d_model):\n",
        "  \"\"\" Pre-attention decoder runs on the targets and creates\n",
        "    activations that are used as queries in attention.\n",
        "    \n",
        "    Args:\n",
        "        mode: str: 'train' or 'eval'\n",
        "        target_vocab_size: int: vocab size of the target\n",
        "        d_model: int:  depth of embedding (n_units in the LSTM cell)\n",
        "    Returns:\n",
        "        tl.Serial: The pre-attention decoder\n",
        "  \"\"\"\n",
        "  pre_attention_decoder = tl.Serial(\n",
        "        tl.ShiftRight(1, mode = mode),\n",
        "        tl.Embedding(target_vocab_size, d_model),\n",
        "        tl.LSTM(d_model)\n",
        "  )\n",
        "  return pre_attention_decoder"
      ],
      "execution_count": 13,
      "outputs": []
    },
    {
      "cell_type": "markdown",
      "metadata": {
        "id": "llyZq_fFXmq5"
      },
      "source": [
        "Prepare attention input"
      ]
    },
    {
      "cell_type": "code",
      "metadata": {
        "id": "7k0MjOZ3XBlK"
      },
      "source": [
        "def prepare_attention_input(encoder_activaions, decoder_activations, inputs):\n",
        "  \"\"\"Prepare queries, keys, values and mask for attention.\n",
        "    \n",
        "  Args:\n",
        "        encoder_activations fastnp.array(batch_size, padded_input_length, d_model): output from the input encoder\n",
        "        decoder_activations fastnp.array(batch_size, padded_input_length, d_model): output from the pre-attention decoder\n",
        "        inputs fastnp.array(batch_size, padded_input_length): input tokens\n",
        "    \n",
        "    Returns:\n",
        "        queries, keys, values and mask for attention.\n",
        "  \"\"\"\n",
        "  keys = encoder_activaions\n",
        "  values = encoder_activaions\n",
        "  queries = decoder_activations\n",
        "  mask = inputs > 0\n",
        "  mask = fastnp.reshape(mask, (mask.shape[0], 1, 1, mask.shape[1]))\n",
        "  mask = mask + fastnp.zeros((1, 1, decoder_activations.shape[1], 1))\n",
        "\n",
        "  return queries, keys, values, mask"
      ],
      "execution_count": 14,
      "outputs": []
    },
    {
      "cell_type": "markdown",
      "metadata": {
        "id": "ubZr19hyaPu2"
      },
      "source": [
        "Final implemention for Neural Machine Translation Model ![NMTModel.png](data:image/png;base64,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)"
      ]
    },
    {
      "cell_type": "code",
      "metadata": {
        "id": "I0dwj7Wjax_f"
      },
      "source": [
        "def NMTAttn(input_vocab_size=33300,\n",
        "            target_vocab_size=33300,\n",
        "            d_model=1024,\n",
        "            n_encoder_layers=2,\n",
        "            n_decoder_layers=2,\n",
        "            n_attention_heads=4,\n",
        "            attention_dropout=0.0,\n",
        "            mode='train'):\n",
        "    \"\"\"Returns an LSTM sequence-to-sequence model with attention.\n",
        "\n",
        "    The input to the model is a pair (input tokens, target tokens), e.g.,\n",
        "    an English sentence (tokenized) and its translation into German (tokenized).\n",
        "\n",
        "    Args:\n",
        "    input_vocab_size: int: vocab size of the input\n",
        "    target_vocab_size: int: vocab size of the target\n",
        "    d_model: int:  depth of embedding (n_units in the LSTM cell)\n",
        "    n_encoder_layers: int: number of LSTM layers in the encoder\n",
        "    n_decoder_layers: int: number of LSTM layers in the decoder after attention\n",
        "    n_attention_heads: int: number of attention heads\n",
        "    attention_dropout: float, dropout for the attention layer\n",
        "    mode: str: 'train', 'eval' or 'predict', predict mode is for fast inference\n",
        "\n",
        "    Returns:\n",
        "    A LSTM sequence-to-sequence model with attention.\n",
        "    \"\"\"\n",
        "    input_encoder = input_encoder_fn(input_vocab_size, d_model, n_encoder_layers)\n",
        "\n",
        "    \n",
        "    pre_attention_decoder = pre_attention_decoder_fn(mode, target_vocab_size, d_model)\n",
        "\n",
        "    model = tl.Serial( \n",
        "      \n",
        "      tl.Select([0, 1, 0, 1]),\n",
        "      tl.Parallel(input_encoder, pre_attention_decoder),\n",
        "      tl.Fn('PrepareAttentionInput', prepare_attention_input, n_out=4),\n",
        "      tl.Residual(tl.AttentionQKV(d_model, n_heads=n_attention_heads, dropout=attention_dropout, mode=mode)),\n",
        "      tl.Select([0, 2]),\n",
        "      [tl.LSTM(d_model) for _ in range(n_decoder_layers)],\n",
        "      tl.Dense(input_vocab_size),\n",
        "      tl.LogSoftmax()\n",
        "    )\n",
        "    \n",
        "    return model"
      ],
      "execution_count": 15,
      "outputs": []
    },
    {
      "cell_type": "code",
      "metadata": {
        "colab": {
          "base_uri": "https://localhost:8080/"
        },
        "id": "rQrZNZCtbio9",
        "outputId": "63b73eae-f3b6-43fe-aebf-3fed4f279d5d"
      },
      "source": [
        "# print your model\n",
        "model = NMTAttn()\n",
        "print(model)"
      ],
      "execution_count": 16,
      "outputs": [
        {
          "output_type": "stream",
          "text": [
            "Serial_in2_out2[\n",
            "  Select[0,1,0,1]_in2_out4\n",
            "  Parallel_in2_out2[\n",
            "    Serial[\n",
            "      Embedding_33300_1024\n",
            "      LSTM_1024\n",
            "      LSTM_1024\n",
            "    ]\n",
            "    Serial[\n",
            "      Serial[\n",
            "        ShiftRight(1)\n",
            "      ]\n",
            "      Embedding_33300_1024\n",
            "      LSTM_1024\n",
            "    ]\n",
            "  ]\n",
            "  PrepareAttentionInput_in3_out4\n",
            "  Serial_in4_out2[\n",
            "    Branch_in4_out3[\n",
            "      None\n",
            "      Serial_in4_out2[\n",
            "        _in4_out4\n",
            "        Serial_in4_out2[\n",
            "          Parallel_in3_out3[\n",
            "            Dense_1024\n",
            "            Dense_1024\n",
            "            Dense_1024\n",
            "          ]\n",
            "          PureAttention_in4_out2\n",
            "          Dense_1024\n",
            "        ]\n",
            "        _in2_out2\n",
            "      ]\n",
            "    ]\n",
            "    Add_in2\n",
            "  ]\n",
            "  Select[0,2]_in3_out2\n",
            "  LSTM_1024\n",
            "  LSTM_1024\n",
            "  Dense_33300\n",
            "  LogSoftmax\n",
            "]\n"
          ],
          "name": "stdout"
        }
      ]
    },
    {
      "cell_type": "markdown",
      "metadata": {
        "id": "xNZh_wbuddDv"
      },
      "source": [
        "**Training**"
      ]
    },
    {
      "cell_type": "code",
      "metadata": {
        "id": "ZT0Ig6UTbmqz"
      },
      "source": [
        "def train_task_function(train_batch_stream):\n",
        "    \"\"\"Returns a trax.training.TrainTask object.\n",
        "\n",
        "    Args:\n",
        "    train_batch_stream generator: labeled data generator\n",
        "\n",
        "    Returns:\n",
        "    A trax.training.TrainTask object.\n",
        "    \"\"\"\n",
        "    return training.TrainTask(\n",
        "        labeled_data= train_batch_stream,\n",
        "        loss_layer= tl.CrossEntropyLoss(),\n",
        "        optimizer= trax.optimizers.Adam(0.01),\n",
        "        lr_schedule= trax.lr.warmup_and_rsqrt_decay(1000, 0.01),\n",
        "        n_steps_per_checkpoint= 10\n",
        "\n",
        "    )"
      ],
      "execution_count": 17,
      "outputs": []
    },
    {
      "cell_type": "code",
      "metadata": {
        "id": "m4tGBfK0d8_m"
      },
      "source": [
        "train_task = train_task_function(train_batch_stream)"
      ],
      "execution_count": 18,
      "outputs": []
    },
    {
      "cell_type": "markdown",
      "metadata": {
        "id": "mzcl8k2OeHTQ"
      },
      "source": [
        "**Evalution of the NMT**"
      ]
    },
    {
      "cell_type": "code",
      "metadata": {
        "id": "8a67ON0IeCp2"
      },
      "source": [
        "eval_task = training.EvalTask(\n",
        "    \n",
        "    ## use the eval batch stream as labeled data\n",
        "    labeled_data=eval_batch_stream,\n",
        "    \n",
        "    ## use the cross entropy loss and accuracy as metrics\n",
        "    metrics=[tl.CrossEntropyLoss(), tl.Accuracy()],\n",
        ")\n"
      ],
      "execution_count": 19,
      "outputs": []
    },
    {
      "cell_type": "markdown",
      "metadata": {
        "id": "KkYbc77deYdg"
      },
      "source": [
        "**LOOPING OVER**"
      ]
    },
    {
      "cell_type": "code",
      "metadata": {
        "colab": {
          "base_uri": "https://localhost:8080/"
        },
        "id": "rdPNds07eW4K",
        "outputId": "c0c21524-32f7-478d-d19e-e5998747f198"
      },
      "source": [
        "# define the output directory\n",
        "output_dir = 'output_dir/'\n",
        "\n",
        "# remove old model if it exists. restarts training.\n",
        "!rm -f ~/output_dir/model.pkl.gz  \n",
        "\n",
        "# define the training loop\n",
        "training_loop = training.Loop(NMTAttn(mode='train'),\n",
        "                              train_task, #[train_task],\n",
        "                              eval_tasks=[eval_task],\n",
        "                              output_dir=output_dir)"
      ],
      "execution_count": 20,
      "outputs": [
        {
          "output_type": "stream",
          "text": [
            "/usr/local/lib/python3.7/dist-packages/jax/lib/xla_bridge.py:374: UserWarning: jax.host_id has been renamed to jax.process_index. This alias will eventually be removed; please update your code.\n",
            "  \"jax.host_id has been renamed to jax.process_index. This alias \"\n",
            "/usr/local/lib/python3.7/dist-packages/jax/lib/xla_bridge.py:387: UserWarning: jax.host_count has been renamed to jax.process_count. This alias will eventually be removed; please update your code.\n",
            "  \"jax.host_count has been renamed to jax.process_count. This alias \"\n"
          ],
          "name": "stderr"
        }
      ]
    },
    {
      "cell_type": "code",
      "metadata": {
        "colab": {
          "base_uri": "https://localhost:8080/"
        },
        "id": "ITAzIW8Dej_u",
        "outputId": "7cb1b6ba-0fa0-42d1-87e4-caf53731b7f1"
      },
      "source": [
        "training_loop.run(10)"
      ],
      "execution_count": null,
      "outputs": [
        {
          "output_type": "stream",
          "text": [
            "/usr/local/lib/python3.7/dist-packages/jax/lib/xla_bridge.py:374: UserWarning: jax.host_id has been renamed to jax.process_index. This alias will eventually be removed; please update your code.\n",
            "  \"jax.host_id has been renamed to jax.process_index. This alias \"\n"
          ],
          "name": "stderr"
        },
        {
          "output_type": "stream",
          "text": [
            "\n",
            "Step      1: Total number of trainable weights: 148492820\n",
            "Step      1: Ran 1 train steps in 160.17 secs\n",
            "Step      1: train CrossEntropyLoss |  10.42407608\n",
            "Step      1: eval  CrossEntropyLoss |  10.42009068\n",
            "Step      1: eval          Accuracy |  0.00000000\n",
            "\n",
            "Step     10: Ran 9 train steps in 431.74 secs\n",
            "Step     10: train CrossEntropyLoss |  10.26556110\n",
            "Step     10: eval  CrossEntropyLoss |  9.98338699\n",
            "Step     10: eval          Accuracy |  0.02429765\n"
          ],
          "name": "stdout"
        }
      ]
    },
    {
      "cell_type": "markdown",
      "metadata": {
        "id": "9yeskAj-hOX7"
      },
      "source": [
        "**Testing**"
      ]
    },
    {
      "cell_type": "code",
      "metadata": {
        "id": "xuTXBHI8eyS7"
      },
      "source": [
        "# instantiate the model we built in eval mode\n",
        "model = NMTAttn(mode='eval')\n",
        "\n",
        "# initialize weights from a pre-trained model\n",
        "model.init_from_file(\"/content/drive/MyDrive/data/model.pkl.gz\", weights_only=True)\n",
        "model = tl.Accelerate(model)"
      ],
      "execution_count": 22,
      "outputs": []
    },
    {
      "cell_type": "markdown",
      "metadata": {
        "id": "l8NR738YdZM4"
      },
      "source": [
        "**Decoding**"
      ]
    },
    {
      "cell_type": "code",
      "metadata": {
        "id": "GQRnTHQAhVfm"
      },
      "source": [
        "def next_symbol(NMTAttn, input_tokens, cur_output_tokens, temperature):\n",
        "    \"\"\"Returns the index of the next token.\n",
        "\n",
        "    Args:\n",
        "        NMTAttn (tl.Serial): An LSTM sequence-to-sequence model with attention.\n",
        "        input_tokens (np.ndarray 1 x n_tokens): tokenized representation of the input sentence\n",
        "        cur_output_tokens (list): tokenized representation of previously translated words\n",
        "        temperature (float): parameter for sampling ranging from 0.0 to 1.0.\n",
        "            0.0: same as argmax, always pick the most probable token\n",
        "            1.0: sampling from the distribution (can sometimes say random things)\n",
        "\n",
        "    Returns:\n",
        "        int: index of the next token in the translated sentence\n",
        "        float: log probability of the next symbol\n",
        "    \"\"\"\n",
        "\n",
        "    # set the length of the current output tokens\n",
        "    token_length = len(cur_output_tokens)\n",
        "    \n",
        "    # calculate next power of 2 for padding length \n",
        "    padded_length = 2**int(np.ceil(np.log2(token_length + 1)))\n",
        "\n",
        "    # pad cur_output_tokens up to the padded_length\n",
        "    padded = cur_output_tokens + [0]*(padded_length-token_length)\n",
        "    \n",
        "    # model expects the output to have an axis for the batch size in front so\n",
        "    # convert `padded` list to a numpy array with shape (1, <padded_length>)\n",
        "    padded_with_batch = np.expand_dims(np.array(padded),axis=0)\n",
        "\n",
        "    # get the model prediction\n",
        "    output, _ = NMTAttn((input_tokens,padded_with_batch))\n",
        "    \n",
        "    # get log probabilities from the last token output\n",
        "    log_probs = output[0,token_length,:]\n",
        "\n",
        "    # get the next symbol by getting a logsoftmax sample (*hint: cast to an int)\n",
        "    symbol = int(tl.logsoftmax_sample(log_probs, temperature))  \n",
        "    return symbol, float(log_probs[symbol])"
      ],
      "execution_count": 24,
      "outputs": []
    },
    {
      "cell_type": "code",
      "metadata": {
        "id": "JwA1yOyTd6WB"
      },
      "source": [
        "def sampling_decode(input_sentence, NMTAttn = None, temperature=0.0, vocab_file=None, vocab_dir=None, next_symbol=next_symbol, tokenize=tokenize, detokenize=detokenize):\n",
        "    \"\"\"Returns the translated sentence.\n",
        "\n",
        "    Args:\n",
        "        input_sentence (str): sentence to translate.\n",
        "        NMTAttn (tl.Serial): An LSTM sequence-to-sequence model with attention.\n",
        "        temperature (float): parameter for sampling ranging from 0.0 to 1.0.\n",
        "            0.0: same as argmax, always pick the most probable token\n",
        "            1.0: sampling from the distribution (can sometimes say random things)\n",
        "        vocab_file (str): filename of the vocabulary\n",
        "        vocab_dir (str): path to the vocabulary file\n",
        "\n",
        "    Returns:\n",
        "        tuple: (list, str, float)\n",
        "            list of int: tokenized version of the translated sentence\n",
        "            float: log probability of the translated sentence\n",
        "            str: the translated sentence\n",
        "    \"\"\"\n",
        "    # encode the input sentence\n",
        "    input_tokens = tokenize(input_sentence, vocab_file=vocab_file, vocab_dir=vocab_dir)\n",
        "    \n",
        "    # initialize the list of output tokens\n",
        "    cur_output_tokens = []\n",
        "    \n",
        "    # initialize an integer that represents the current output index\n",
        "    cur_output = 0\n",
        "    \n",
        "    # Set the encoding of the \"end of sentence\" as 1\n",
        "    EOS = 1\n",
        "    \n",
        "    # check that the current output is not the end of sentence token\n",
        "    while cur_output != EOS:\n",
        "        \n",
        "        # update the current output token by getting the index of the next word (hint: use next_symbol)\n",
        "        cur_output, log_prob = next_symbol(NMTAttn, input_tokens, cur_output_tokens, temperature)\n",
        "        \n",
        "        # append the current output token to the list of output tokens\n",
        "        cur_output_tokens.append(cur_output)        \n",
        "    \n",
        "    # detokenize the output tokens\n",
        "    sentence = detokenize(cur_output_tokens,vocab_file=vocab_file, vocab_dir=vocab_dir)\n",
        "    return cur_output_tokens, log_prob, sentence"
      ],
      "execution_count": 25,
      "outputs": []
    },
    {
      "cell_type": "markdown",
      "metadata": {
        "id": "hALIzznHeVYR"
      },
      "source": [
        "**RESULTS**"
      ]
    },
    {
      "cell_type": "code",
      "metadata": {
        "colab": {
          "base_uri": "https://localhost:8080/"
        },
        "id": "MNZctRoKeRt4",
        "outputId": "ca98d9c4-04d4-4196-ebdc-4f6eee0dac6e"
      },
      "source": [
        "sampling_decode(\"I love languages.\", NMTAttn=model, temperature=0.0, vocab_file=VOCAB_FILE, vocab_dir=VOCAB_DIR)"
      ],
      "execution_count": 26,
      "outputs": [
        {
          "output_type": "execute_result",
          "data": {
            "text/plain": [
              "([161, 12202, 5112, 3, 1], -0.0001735687255859375, 'Ich liebe Sprachen.')"
            ]
          },
          "metadata": {
            "tags": []
          },
          "execution_count": 26
        }
      ]
    },
    {
      "cell_type": "code",
      "metadata": {
        "id": "ZvWpqLgMefXG"
      },
      "source": [
        "def greedy_decode_test(sentence, NMTAttn=None, vocab_file=None, vocab_dir=None, sampling_decode=sampling_decode, next_symbol=next_symbol, tokenize=tokenize, detokenize=detokenize):\n",
        "    \"\"\"Prints the input and output of our NMTAttn model using greedy decode\n",
        "\n",
        "    Args:\n",
        "        sentence (str): a custom string.\n",
        "        NMTAttn (tl.Serial): An LSTM sequence-to-sequence model with attention.\n",
        "        vocab_file (str): filename of the vocabulary\n",
        "        vocab_dir (str): path to the vocabulary file\n",
        "\n",
        "    Returns:\n",
        "        str: the translated sentence\n",
        "    \"\"\"\n",
        "    \n",
        "    _,_, translated_sentence = sampling_decode(sentence, NMTAttn=NMTAttn, vocab_file=vocab_file, vocab_dir=vocab_dir, next_symbol=next_symbol, tokenize=tokenize, detokenize=detokenize)\n",
        "    \n",
        "    print(\"English: \", sentence)\n",
        "    print(\"German: \", translated_sentence)\n",
        "    \n",
        "    return translated_sentence"
      ],
      "execution_count": 27,
      "outputs": []
    },
    {
      "cell_type": "code",
      "metadata": {
        "colab": {
          "base_uri": "https://localhost:8080/"
        },
        "id": "SAp6Of-jeyx5",
        "outputId": "a4738a6d-bef9-46b8-c561-3b5a379a01ee"
      },
      "source": [
        "# put a custom string here\n",
        "your_sentence = 'where are you going'\n",
        "\n",
        "greedy_decode_test(your_sentence, NMTAttn=model, vocab_file=VOCAB_FILE, vocab_dir=VOCAB_DIR);"
      ],
      "execution_count": 28,
      "outputs": [
        {
          "output_type": "stream",
          "text": [
            "English:  where are you going\n",
            "German:  wo man sich hinzieht.\n"
          ],
          "name": "stdout"
        }
      ]
    },
    {
      "cell_type": "code",
      "metadata": {
        "colab": {
          "base_uri": "https://localhost:8080/"
        },
        "id": "RqIG5G3Ee_yd",
        "outputId": "7a79cecb-9190-4d61-d3b1-d7d5c949c159"
      },
      "source": [
        "greedy_decode_test('I am almost done with neural machine translation', model, vocab_file=VOCAB_FILE, vocab_dir=VOCAB_DIR);"
      ],
      "execution_count": 29,
      "outputs": [
        {
          "output_type": "stream",
          "text": [
            "English:  I am almost done with neural machine translation\n",
            "German:  Ich bin fast mit Neutralen Maschine zusammengearbeitet.\n"
          ],
          "name": "stdout"
        }
      ]
    },
    {
      "cell_type": "markdown",
      "metadata": {
        "id": "KfeLwBqAftpS"
      },
      "source": [
        "**Using the Minimum Bayes-Risk Decoding**"
      ]
    },
    {
      "cell_type": "code",
      "metadata": {
        "id": "mn-uwN6_fUzn"
      },
      "source": [
        "def generate_samples(sentence, n_samples, NMTAttn=None, temperature=0.6, vocab_file=None, vocab_dir=None, sampling_decode=sampling_decode, next_symbol=next_symbol, tokenize=tokenize, detokenize=detokenize):\n",
        "    \"\"\"Generates samples using sampling_decode()\n",
        "\n",
        "    Args:\n",
        "        sentence (str): sentence to translate.\n",
        "        n_samples (int): number of samples to generate\n",
        "        NMTAttn (tl.Serial): An LSTM sequence-to-sequence model with attention.\n",
        "        temperature (float): parameter for sampling ranging from 0.0 to 1.0.\n",
        "            0.0: same as argmax, always pick the most probable token\n",
        "            1.0: sampling from the distribution (can sometimes say random things)\n",
        "        vocab_file (str): filename of the vocabulary\n",
        "        vocab_dir (str): path to the vocabulary file\n",
        "        \n",
        "    Returns:\n",
        "        tuple: (list, list)\n",
        "            list of lists: token list per sample\n",
        "            list of floats: log probability per sample\n",
        "    \"\"\"\n",
        "    # define lists to contain samples and probabilities\n",
        "    samples, log_probs = [], []\n",
        "\n",
        "    # run a for loop to generate n samples\n",
        "    for _ in range(n_samples):\n",
        "        \n",
        "        # get a sample using the sampling_decode() function\n",
        "        sample, logp, _ = sampling_decode(sentence, NMTAttn, temperature, vocab_file=vocab_file, vocab_dir=vocab_dir, next_symbol=next_symbol)\n",
        "        \n",
        "        # append the token list to the samples list\n",
        "        samples.append(sample)\n",
        "        \n",
        "        # append the log probability to the log_probs list\n",
        "        log_probs.append(logp)\n",
        "                \n",
        "    return samples, log_probs"
      ],
      "execution_count": 30,
      "outputs": []
    },
    {
      "cell_type": "code",
      "metadata": {
        "colab": {
          "base_uri": "https://localhost:8080/"
        },
        "id": "9BxdItt_fXwq",
        "outputId": "77db3915-c661-4c6b-a21d-b5a506252534"
      },
      "source": [
        "# generate 4 samples with the default temperature (0.6)\n",
        "generate_samples('how are you today?', 4, model, vocab_file=VOCAB_FILE, vocab_dir=VOCAB_DIR)"
      ],
      "execution_count": 31,
      "outputs": [
        {
          "output_type": "execute_result",
          "data": {
            "text/plain": [
              "([[595, 119, 67, 352, 102, 1],\n",
              "  [595, 30166, 705, 12300, 102, 1],\n",
              "  [595, 75, 67, 352, 102, 1],\n",
              "  [595, 75, 67, 352, 102, 1]],\n",
              " [-1.33514404296875e-05,\n",
              "  -1.33514404296875e-05,\n",
              "  -3.814697265625e-06,\n",
              "  -3.814697265625e-06])"
            ]
          },
          "metadata": {
            "tags": []
          },
          "execution_count": 31
        }
      ]
    },
    {
      "cell_type": "markdown",
      "metadata": {
        "id": "fcLB_2z5gWaF"
      },
      "source": [
        "Comparing overlaps"
      ]
    },
    {
      "cell_type": "code",
      "metadata": {
        "id": "SkuSoRhIfsnu"
      },
      "source": [
        "def jaccard_similarity(candidate, reference):\n",
        "    \"\"\"Returns the Jaccard similarity between two token lists\n",
        "\n",
        "    Args:\n",
        "        candidate (list of int): tokenized version of the candidate translation\n",
        "        reference (list of int): tokenized version of the reference translation\n",
        "\n",
        "    Returns:\n",
        "        float: overlap between the two token lists\n",
        "    \"\"\"\n",
        "    \n",
        "    # convert the lists to a set to get the unique tokens\n",
        "    can_unigram_set, ref_unigram_set = set(candidate), set(reference)  \n",
        "    \n",
        "    # get the set of tokens common to both candidate and reference\n",
        "    joint_elems = can_unigram_set.intersection(ref_unigram_set)\n",
        "    \n",
        "    # get the set of all tokens found in either candidate or reference\n",
        "    all_elems = can_unigram_set.union(ref_unigram_set)\n",
        "    \n",
        "    # divide the number of joint elements by the number of all elements\n",
        "    overlap = len(joint_elems) / len(all_elems)\n",
        "    \n",
        "    return overlap"
      ],
      "execution_count": 32,
      "outputs": []
    },
    {
      "cell_type": "code",
      "metadata": {
        "id": "g_Oy__I0ggPE"
      },
      "source": [
        "# for making a frequency table easily\n",
        "from collections import Counter\n",
        "\n",
        "def rouge1_similarity(system, reference):\n",
        "    \"\"\"Returns the ROUGE-1 score between two token lists\n",
        "\n",
        "    Args:\n",
        "        system (list of int): tokenized version of the system translation\n",
        "        reference (list of int): tokenized version of the reference translation\n",
        "\n",
        "    Returns:\n",
        "        float: overlap between the two token lists\n",
        "    \"\"\"    \n",
        "    \n",
        "    # make a frequency table of the system tokens (hint: use the Counter class)\n",
        "    sys_counter = Counter(system)\n",
        "    \n",
        "    # make a frequency table of the reference tokens (hint: use the Counter class)\n",
        "    ref_counter = Counter(reference)\n",
        "    \n",
        "    # initialize overlap to 0\n",
        "    overlap = 0\n",
        "    \n",
        "    # run a for loop over the sys_counter object (can be treated as a dictionary)\n",
        "    for token in sys_counter:\n",
        "        \n",
        "        # lookup the value of the token in the sys_counter dictionary (hint: use the get() method)\n",
        "        token_count_sys = sys_counter.get(token, 0)\n",
        "        \n",
        "        # lookup the value of the token in the ref_counter dictionary (hint: use the get() method)\n",
        "        token_count_ref = ref_counter.get(token, 0)\n",
        "        \n",
        "        # update the overlap by getting the smaller number between the two token counts above\n",
        "        overlap += min(token_count_sys, token_count_ref)\n",
        "    \n",
        "    # get the precision\n",
        "    precision = overlap/len(system)\n",
        "    \n",
        "    # get the recall\n",
        "    recall = overlap/len(reference)\n",
        "    \n",
        "    if precision + recall != 0: \n",
        "        rouge1_score = 2 * (precision * recall)/ (precision + recall)\n",
        "    else:\n",
        "        rouge1_score = 0 \n",
        "    return rouge1_score"
      ],
      "execution_count": 33,
      "outputs": []
    },
    {
      "cell_type": "markdown",
      "metadata": {
        "id": "4CtGPh7Og25x"
      },
      "source": [
        "Overall Score"
      ]
    },
    {
      "cell_type": "code",
      "metadata": {
        "id": "9fUVBKk4gzGI"
      },
      "source": [
        "def average_overlap(similarity_fn, samples, *ignore_params):\n",
        "    \"\"\"Returns the arithmetic mean of each candidate sentence in the samples\n",
        "\n",
        "    Args:\n",
        "        similarity_fn (function): similarity function used to compute the overlap\n",
        "        samples (list of lists): tokenized version of the translated sentences\n",
        "        *ignore_params: additional parameters will be ignored\n",
        "\n",
        "    Returns:\n",
        "        dict: scores of each sample\n",
        "            key: index of the sample\n",
        "            value: score of the sample\n",
        "    \"\"\"  \n",
        "    \n",
        "    # initialize dictionary\n",
        "    scores = {}\n",
        "    \n",
        "    # run a for loop for each sample\n",
        "    for index_candidate, candidate in enumerate(samples):    \n",
        "        # initialize overlap and weighted sum\n",
        "        overlap = 0.0\n",
        "        \n",
        "        # run a for loop for each sample\n",
        "        for index_sample, sample in enumerate(samples):\n",
        "\n",
        "            # skip if the candidate index is the same as the sample index\n",
        "            if index_candidate == index_sample:\n",
        "                continue\n",
        "                \n",
        "            # get the overlap between candidate and sample using the similarity function\n",
        "            sample_overlap = similarity_fn(candidate, sample)\n",
        "            \n",
        "            # add the sample overlap to the total overlap\n",
        "            overlap += sample_overlap\n",
        "            \n",
        "        # get the score for the candidate by computing the average\n",
        "        score = overlap/(len(samples)-1)\n",
        "        \n",
        "        # log the score in the dictionary. use index as the key.\n",
        "        scores[index_candidate] = score\n",
        "    return scores"
      ],
      "execution_count": 34,
      "outputs": []
    },
    {
      "cell_type": "code",
      "metadata": {
        "id": "f_u2U6mDhPxr"
      },
      "source": [
        "def weighted_avg_overlap(similarity_fn, samples, log_probs):\n",
        "    \"\"\"Returns the weighted mean of each candidate sentence in the samples\n",
        "\n",
        "    Args:\n",
        "        samples (list of lists): tokenized version of the translated sentences\n",
        "        log_probs (list of float): log probability of the translated sentences\n",
        "\n",
        "    Returns:\n",
        "        dict: scores of each sample\n",
        "            key: index of the sample\n",
        "            value: score of the sample\n",
        "    \"\"\"\n",
        "    \n",
        "    # initialize dictionary\n",
        "    scores = {}\n",
        "    \n",
        "    # run a for loop for each sample\n",
        "    for index_candidate, candidate in enumerate(samples):    \n",
        "        \n",
        "        # initialize overlap and weighted sum\n",
        "        overlap, weight_sum = 0.0, 0.0\n",
        "        \n",
        "        # run a for loop for each sample\n",
        "        for index_sample, (sample, logp) in enumerate(zip(samples, log_probs)):\n",
        "\n",
        "            # skip if the candidate index is the same as the sample index            \n",
        "            if index_candidate == index_sample:\n",
        "                continue\n",
        "                \n",
        "            # convert log probability to linear scale\n",
        "            sample_p = float(np.exp(logp))\n",
        "\n",
        "            # update the weighted sum\n",
        "            weight_sum += sample_p\n",
        "\n",
        "            # get the unigram overlap between candidate and sample\n",
        "            sample_overlap = similarity_fn(candidate, sample)\n",
        "            \n",
        "            # update the overlap\n",
        "            overlap += sample_p * sample_overlap\n",
        "            \n",
        "        # get the score for the candidate\n",
        "        score = overlap / weight_sum\n",
        "        \n",
        "        # save the score in the dictionary. use index as the key.\n",
        "        scores[index_candidate] = score\n",
        "    \n",
        "    return scores"
      ],
      "execution_count": 35,
      "outputs": []
    },
    {
      "cell_type": "code",
      "metadata": {
        "id": "WG7yg5eChVW-"
      },
      "source": [
        "# UNQ_C10\n",
        "# GRADED FUNCTION\n",
        "def mbr_decode(sentence, n_samples, score_fn, similarity_fn, NMTAttn=None, temperature=0.6, vocab_file=None, vocab_dir=None, generate_samples=generate_samples, sampling_decode=sampling_decode, next_symbol=next_symbol, tokenize=tokenize, detokenize=detokenize):\n",
        "    \"\"\"Returns the translated sentence using Minimum Bayes Risk decoding\n",
        "\n",
        "    Args:\n",
        "        sentence (str): sentence to translate.\n",
        "        n_samples (int): number of samples to generate\n",
        "        score_fn (function): function that generates the score for each sample\n",
        "        similarity_fn (function): function used to compute the overlap between a pair of samples\n",
        "        NMTAttn (tl.Serial): An LSTM sequence-to-sequence model with attention.\n",
        "        temperature (float): parameter for sampling ranging from 0.0 to 1.0.\n",
        "            0.0: same as argmax, always pick the most probable token\n",
        "            1.0: sampling from the distribution (can sometimes say random things)\n",
        "        vocab_file (str): filename of the vocabulary\n",
        "        vocab_dir (str): path to the vocabulary file\n",
        "\n",
        "    Returns:\n",
        "        str: the translated sentence\n",
        "    \"\"\"\n",
        "    # generate samples\n",
        "    samples, log_probs = generate_samples(sentence, n_samples, NMTAttn=NMTAttn, temperature=temperature, vocab_file=vocab_file, vocab_dir=vocab_dir)\n",
        "    \n",
        "    \n",
        "    # use the scoring function to get a dictionary of scores\n",
        "    # pass in the relevant parameters as shown in the function definition of \n",
        "    # the mean methods you developed earlier\n",
        "    scores = score_fn(similarity_fn, samples,log_probs)\n",
        "    \n",
        "    # find the key with the highest score\n",
        "    max_index = max(scores,key=lambda x :scores[x])\n",
        "    \n",
        "    # detokenize the token list associated with the max_index\n",
        "    translated_sentence = detokenize(samples[max_index],vocab_file,vocab_dir)\n",
        "    \n",
        "    return (translated_sentence, max_index, scores)"
      ],
      "execution_count": 36,
      "outputs": []
    },
    {
      "cell_type": "code",
      "metadata": {
        "colab": {
          "base_uri": "https://localhost:8080/",
          "height": 35
        },
        "id": "5BoHTmCGhjWK",
        "outputId": "6c004c0f-9eed-4a10-9953-57f619d24c2d"
      },
      "source": [
        "TEMPERATURE = 1.0\n",
        "\n",
        "# put a custom string here\n",
        "your_sentence = 'She speaks English and German.'\n",
        "mbr_decode(your_sentence, 4, weighted_avg_overlap, jaccard_similarity, model, TEMPERATURE, vocab_file=VOCAB_FILE, vocab_dir=VOCAB_DIR)[0]\n"
      ],
      "execution_count": 37,
      "outputs": [
        {
          "output_type": "execute_result",
          "data": {
            "application/vnd.google.colaboratory.intrinsic+json": {
              "type": "string"
            },
            "text/plain": [
              "'Sie spricht Englisch, Englisch und Deutsch.'"
            ]
          },
          "metadata": {
            "tags": []
          },
          "execution_count": 37
        }
      ]
    },
    {
      "cell_type": "code",
      "metadata": {
        "colab": {
          "base_uri": "https://localhost:8080/",
          "height": 35
        },
        "id": "Lyl28ClGhx51",
        "outputId": "c03706fa-4ee9-4234-9a24-30a6c46c20de"
      },
      "source": [
        "mbr_decode('Neural Machine Translation is completed with attention Model', 4, average_overlap, rouge1_similarity, model, TEMPERATURE, vocab_file=VOCAB_FILE, vocab_dir=VOCAB_DIR)[0]\n"
      ],
      "execution_count": 38,
      "outputs": [
        {
          "output_type": "execute_result",
          "data": {
            "application/vnd.google.colaboratory.intrinsic+json": {
              "type": "string"
            },
            "text/plain": [
              "'Neurale Maschine Übersetzungs besteht im Zusammenhang mit Aufmerksamkeit-modell'"
            ]
          },
          "metadata": {
            "tags": []
          },
          "execution_count": 38
        }
      ]
    }
  ]
}
